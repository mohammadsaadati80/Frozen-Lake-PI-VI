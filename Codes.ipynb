{
 "cells": [
  {
   "cell_type": "markdown",
   "id": "ac1cb838",
   "metadata": {},
   "source": [
    "<br><br>\n",
    "\n",
    "<font color=#191347 ><font>\n",
    "<p style = \"font-family:times;\">\n",
    "    <font size=\"7\">\n",
    "        Interactive Learning \n",
    "    </font>    \n",
    "</p>\n",
    "\n",
    "<br>\n",
    "    \n",
    "<font color=#ed1c24><font>\n",
    "<p style = \"font-family:optima;\">\n",
    "    <font size=\"6\">\n",
    "        Homework #3\n",
    "    </font>    \n",
    "<font color=#000000> <font>\n",
    "</p>\n",
    "\n",
    "> $\\textit{Mohammad Saadati - 810198410}$"
   ]
  },
  {
   "cell_type": "markdown",
   "id": "2ff047b5",
   "metadata": {},
   "source": [
    "# Table of Contents\n",
    "\n",
    "- [Packages](#0)\n",
    "- [Problem 2](#1)\n",
    "    - [Question 1](#1-1)\n",
    "    - [Question 2](#1-2)\n",
    "    - [Question 3](#1-3)\n",
    "    - [Question 4](#1-4)\n",
    "- [Problem 3](#2)\n",
    "    - [َPart 1](#2-1)\n",
    "        - [Value Iteration](#2-1-1)\n",
    "        - [Policy Iteration](#2-1-2)\n",
    "    - [Part 2](#2-2)\n",
    "        - [Value Iteration](#2-2-1)\n",
    "        - [Policy Iteration](#2-2-2)\n",
    "    - [Part 3](#2-3)\n",
    "        - [A](#2-3-1)\n",
    "        - [B](#2-3-2)"
   ]
  },
  {
   "cell_type": "markdown",
   "id": "01beeea4",
   "metadata": {},
   "source": [
    "<a name='0'></a>\n",
    "## Packages\n",
    "\n",
    "Run the following cell to load the packages you'll need."
   ]
  },
  {
   "cell_type": "code",
   "execution_count": 1,
   "id": "c241c39b",
   "metadata": {},
   "outputs": [],
   "source": [
    "import numpy as np\n",
    "import itertools\n",
    "import copy\n",
    "import time\n",
    "from gym import Env\n",
    "\n",
    "from env import FrozenLake\n",
    "\n",
    "# Action Space \n",
    "LEFT = 0\n",
    "DOWN = 1\n",
    "RIGHT = 2\n",
    "UP = 3\n",
    "X = 0\n",
    "Y = 1\n",
    "\n",
    "ACTION_SPACE = [LEFT,DOWN,RIGHT,UP]\n",
    "ACTIONS_NAMES = [\"←\",\"↓\",\"→\",\"↑\"]\n",
    "\n",
    "Discount = 0.9\n",
    "Sd_number = 810198410"
   ]
  },
  {
   "cell_type": "markdown",
   "id": "dfb05f60",
   "metadata": {},
   "source": [
    "<a name='1'></a>\n",
    "# Problem 2"
   ]
  },
  {
   "cell_type": "code",
   "execution_count": null,
   "id": "17a9250c",
   "metadata": {},
   "outputs": [],
   "source": []
  },
  {
   "cell_type": "markdown",
   "id": "8bab0958",
   "metadata": {},
   "source": [
    "<a name='1-1'></a>\n",
    "## Question 1"
   ]
  },
  {
   "cell_type": "code",
   "execution_count": null,
   "id": "f1c37ee4",
   "metadata": {},
   "outputs": [],
   "source": []
  },
  {
   "cell_type": "markdown",
   "id": "cf069976",
   "metadata": {},
   "source": [
    "<a name='1-2'></a>\n",
    "## Question 2"
   ]
  },
  {
   "cell_type": "code",
   "execution_count": null,
   "id": "97733138",
   "metadata": {},
   "outputs": [],
   "source": []
  },
  {
   "cell_type": "markdown",
   "id": "c2e01ac6",
   "metadata": {},
   "source": [
    "<a name='1-3'></a>\n",
    "## Question 3"
   ]
  },
  {
   "cell_type": "code",
   "execution_count": null,
   "id": "b84443c6",
   "metadata": {},
   "outputs": [],
   "source": []
  },
  {
   "cell_type": "markdown",
   "id": "04fcc9ce",
   "metadata": {},
   "source": [
    "<a name='1-4'></a>\n",
    "## Question 4"
   ]
  },
  {
   "cell_type": "code",
   "execution_count": null,
   "id": "7c008c1a",
   "metadata": {},
   "outputs": [],
   "source": []
  },
  {
   "cell_type": "markdown",
   "id": "d446a86e",
   "metadata": {},
   "source": [
    "<a name='2'></a>\n",
    "# Problem 3"
   ]
  },
  {
   "cell_type": "code",
   "execution_count": 4,
   "id": "e609ca5b",
   "metadata": {},
   "outputs": [],
   "source": [
    "def show_states_value_on_map(states_value, map_size):\n",
    "    environment_map = \"\"\n",
    "    for i in range(map_size):\n",
    "        environment_map += (\"\\n\"+ int(10*map_size)*\"-\" + \"\\n| \")\n",
    "        for j in range(map_size):\n",
    "            environment_map += \"{:.4f} | \".format(states_value[i,j])           \n",
    "    environment_map += (\"\\n\" + int(10*map_size)*\"-\")\n",
    "    return environment_map\n",
    "\n",
    "def show_actions_on_map(value_iteration, map_size):\n",
    "    environment_map = \"\"\n",
    "    for i in range(map_size):\n",
    "        environment_map += (\"\\n\"+ int(4.3*map_size)*\"-\" + \"\\n| \")\n",
    "        for j in range(map_size):\n",
    "            if (i,j)!=(map_size-1,map_size-1):\n",
    "                environment_map += \"{D} | \".format(D=ACTIONS_NAMES[value_iteration.get_optimal_policy([i, j])])\n",
    "            else:\n",
    "                environment_map += \"* | \"          \n",
    "    environment_map += (\"\\n\" + int(4.3*map_size)*\"-\")\n",
    "    return environment_map"
   ]
  },
  {
   "cell_type": "code",
   "execution_count": 5,
   "id": "11eb7c8b",
   "metadata": {},
   "outputs": [],
   "source": [
    "class ValueIteration():\n",
    "    def __init__(self, env, discount, theta, map_size):\n",
    "        self.env = env\n",
    "        self.discount = discount\n",
    "        self.theta = theta\n",
    "        self.map_size = map_size\n",
    "        self.delta = 0\n",
    "        self.state_values = np.zeros((self.map_size,self.map_size))\n",
    "        self.q_values = np.zeros((self.map_size,self.map_size,4))\n",
    "    \n",
    "    def value_estimation(self):\n",
    "        self.delta = np.inf\n",
    "        \n",
    "        while(self.delta > self.theta):\n",
    "            \n",
    "            self.delta = 0\n",
    "            \n",
    "            for state in itertools.product(range(self.map_size), range(self.map_size)):\n",
    "                if (state[X],state[Y]) == (self.map_size-1,self.map_size-1):\n",
    "                    continue\n",
    "                    \n",
    "                for action in ACTION_SPACE:\n",
    "                    next_states, states_probability, breaking_possibility, is_end = self.env.find_next_states(action=action, current_state=(state[X],state[Y]))\n",
    "                    reward = np.where(is_end, 99, ((1-breaking_possibility) * -1) + (breaking_possibility * -11))\n",
    "                    next_states = np.array(next_states)\n",
    "                    self.q_values[state[X],state[Y],action] = np.sum(states_probability*(reward+self.discount*self.state_values[next_states[:,0], next_states[:,1]]))\n",
    "    \n",
    "                v = self.state_values[state[X],state[Y]]\n",
    "\n",
    "                self.state_values[state[X],state[Y]] = np.max(self.q_values[state[X],state[Y],:])\n",
    "\n",
    "                self.delta = np.max([self.delta, abs(v - self.state_values[state[X],state[Y]])])\n",
    "    \n",
    "    def get_optimal_policy(self, state):\n",
    "        return np.argmax(self.q_values[state[X],state[Y],:])\n",
    "    \n",
    "    def get_state_values(self):\n",
    "        return self.state_values\n",
    "    \n",
    "    def get_q_values(self):\n",
    "        return self.q_values"
   ]
  },
  {
   "cell_type": "code",
   "execution_count": 6,
   "id": "cd40f985",
   "metadata": {},
   "outputs": [],
   "source": [
    "class PolicyIteration():\n",
    "    def __init__(self, env, discount, theta, map_size):\n",
    "        self.env = env\n",
    "        self.discount = discount\n",
    "        self.theta = theta\n",
    "        self.map_size = map_size\n",
    "        self.delta = 0\n",
    "        self.state_values = np.zeros((self.map_size,self.map_size))\n",
    "        self.q_values = np.zeros((self.map_size,self.map_size,4))\n",
    "        self.optimal_policy = np.zeros((self.map_size,self.map_size))\n",
    "        self.policy_stable = False\n",
    "    \n",
    "    \n",
    "    def policy_evaluation(self):\n",
    "        self.delta = np.inf\n",
    "\n",
    "        while(self.delta > self.theta):\n",
    "\n",
    "            self.delta = 0\n",
    "\n",
    "            for state in itertools.product(range(self.map_size), range(self.map_size)):\n",
    "                if (state[X],state[Y]) == (self.map_size-1,self.map_size-1):\n",
    "                    continue\n",
    "\n",
    "                for action in ACTION_SPACE:\n",
    "                    next_states, states_probability, breaking_possibility, is_end = self.env.find_next_states(action=action, current_state=(state[X],state[Y]))\n",
    "                    reward = np.where(is_end, 99, ((1-breaking_possibility) * -1) + (breaking_possibility * -11))\n",
    "                    next_states = np.array(next_states)\n",
    "                    self.q_values[state[X],state[Y],action] = np.sum(states_probability*(reward+self.discount*self.state_values[next_states[:,0], next_states[:,1]]))\n",
    "\n",
    "                v = self.state_values[state[X],state[Y]]\n",
    "\n",
    "                self.state_values[state[X],state[Y]] = np.max(self.q_values[state[X],state[Y],:])\n",
    "\n",
    "                self.delta = np.max([self.delta, abs(v - self.state_values[state[X],state[Y]])])\n",
    "                \n",
    "    def policy_improvement(self):\n",
    "        self.policy_stable = True\n",
    "        old_policy = self.optimal_policy.copy()\n",
    "#         self.optimal_policy = self.get_state_values()\n",
    "        for state in itertools.product(range(self.map_size), range(self.map_size)):\n",
    "            self.optimal_policy[state[X],state[Y]] = self.get_optimal_policy([state[X],state[Y]])\n",
    "        if not (old_policy == self.optimal_policy).all():\n",
    "            self.policy_stable = False\n",
    "    \n",
    "    def policy_estimation(self):\n",
    "        while(not self.policy_stable):\n",
    "            self.policy_evaluation()\n",
    "            self.policy_improvement()\n",
    "    \n",
    "    def get_optimal_policy(self, state):\n",
    "        return np.argmax(self.q_values[state[X],state[Y],:])\n",
    "    \n",
    "    def get_state_values(self):\n",
    "        return self.state_values\n",
    "    \n",
    "    def get_q_values(self):\n",
    "        return self.q_values"
   ]
  },
  {
   "cell_type": "markdown",
   "id": "e1ed1706",
   "metadata": {},
   "source": [
    "<a name='2-1'></a>\n",
    "## Part 1"
   ]
  },
  {
   "cell_type": "code",
   "execution_count": 3,
   "id": "376207cb",
   "metadata": {
    "scrolled": false
   },
   "outputs": [
    {
     "name": "stdout",
     "output_type": "stream",
     "text": [
      "\n",
      "-------------------------------------------------------\n",
      "| \u001b[44m0.0000\u001b[0m | 1.0000 | 1.0000 | 1.0000 | 1.0000 | 1.0000 | \n",
      "-------------------------------------------------------\n",
      "| \u001b[43m0.0001\u001b[0m | \u001b[43m0.0001\u001b[0m | 1.0000 | 1.0000 | 1.0000 | 1.0000 | \n",
      "-------------------------------------------------------\n",
      "| 1.0000 | \u001b[43m0.0001\u001b[0m | 1.0000 | 1.0000 | 1.0000 | 1.0000 | \n",
      "-------------------------------------------------------\n",
      "| 1.0000 | \u001b[43m0.0001\u001b[0m | \u001b[43m0.0001\u001b[0m | \u001b[43m0.0001\u001b[0m | \u001b[43m0.0001\u001b[0m | \u001b[43m0.0001\u001b[0m | \n",
      "-------------------------------------------------------\n",
      "| 1.0000 | 1.0000 | 1.0000 | 1.0000 | 1.0000 | \u001b[43m0.0001\u001b[0m | \n",
      "-------------------------------------------------------\n",
      "| 1.0000 | 1.0000 | 1.0000 | 1.0000 | 1.0000 | \u001b[42m0.0000\u001b[0m | \n",
      "-------------------------------------------------------\n"
     ]
    }
   ],
   "source": [
    "from env import FrozenLake\n",
    "\n",
    "MAP_SIZE = 6\n",
    "BREAKING_PROBABILITY = 0.0001\n",
    "\n",
    "environment = FrozenLake(studentNum=Sd_number)\n",
    "\n",
    "environment.render()"
   ]
  },
  {
   "cell_type": "markdown",
   "id": "9b320d10",
   "metadata": {},
   "source": [
    "<a name='2-1-1'></a>\n",
    "### Value Iteration"
   ]
  },
  {
   "cell_type": "code",
   "execution_count": 5,
   "id": "1ff397e4",
   "metadata": {},
   "outputs": [
    {
     "name": "stdout",
     "output_type": "stream",
     "text": [
      "Convergence time: 0.6083495616912842\n"
     ]
    }
   ],
   "source": [
    "value_iteration = ValueIteration(FrozenLake(studentNum=Sd_number), Discount, 1e-8, MAP_SIZE)\n",
    "\n",
    "start = time.time()\n",
    "value_iteration.value_estimation()\n",
    "end = time.time()\n",
    "\n",
    "print(\"Convergence time:\", end - start)"
   ]
  },
  {
   "cell_type": "code",
   "execution_count": 6,
   "id": "cf9faf1a",
   "metadata": {},
   "outputs": [
    {
     "name": "stdout",
     "output_type": "stream",
     "text": [
      "states value :\n",
      " \n",
      "------------------------------------------------------------\n",
      "| 26.1929 | 30.0812 | 17.3231 | 22.7638 | 29.6611 | 36.8419 | \n",
      "------------------------------------------------------------\n",
      "| 30.6258 | 35.6471 | 31.9859 | 38.4259 | 46.1634 | 54.3519 | \n",
      "------------------------------------------------------------\n",
      "| 35.9200 | 41.8198 | 48.6298 | 56.2760 | 64.9640 | 74.3257 | \n",
      "------------------------------------------------------------\n",
      "| 41.3085 | 48.5310 | 56.3703 | 65.1780 | 74.9210 | 85.6277 | \n",
      "------------------------------------------------------------\n",
      "| 25.6742 | 41.4664 | 48.9862 | 64.8993 | 85.4633 | 97.6371 | \n",
      "------------------------------------------------------------\n",
      "| 21.5512 | 37.0133 | 54.6250 | 74.5789 | 97.0272 | 0.0000 | \n",
      "------------------------------------------------------------\n"
     ]
    }
   ],
   "source": [
    "print(\"states value :\\n\", show_states_value_on_map(value_iteration.get_state_values(), MAP_SIZE))"
   ]
  },
  {
   "cell_type": "code",
   "execution_count": 7,
   "id": "f93b7c8f",
   "metadata": {
    "scrolled": false
   },
   "outputs": [
    {
     "name": "stdout",
     "output_type": "stream",
     "text": [
      "state-action value : \n",
      "\n",
      " [[[22.52333384 26.19285648 16.54290946 22.52333384]\n",
      "  [22.25406176 30.08123284  5.70989766 16.27363738]\n",
      "  [15.74603334 17.32309307  9.68720736  5.18229361]\n",
      "  [ 5.29065143 22.76381015 15.50649154  9.79556517]\n",
      "  [10.28617933 29.66106422 21.94287664 15.99710569]\n",
      "  [16.39790527 36.841947   22.34367621 22.34367621]]\n",
      "\n",
      " [[26.46810978 21.65264356 30.62575822 22.79858714]\n",
      "  [26.37839636 35.64707276 18.30550907 16.72844934]\n",
      "  [30.43530202 31.98589435 23.53712556  6.06396684]\n",
      "  [18.31372514 38.42594177 30.05272431 10.67783942]\n",
      "  [24.18993242 46.16342959 37.37665554 16.9326138 ]\n",
      "  [31.03361312 54.35193588 37.81369633 23.31542554]]\n",
      "\n",
      " [[21.83583513 26.29756297 35.91997776 26.65130135]\n",
      "  [22.1788024  41.81981185 32.70250939 31.15191706]\n",
      "  [36.58198018 48.62976881 39.35263313 19.2404165 ]\n",
      "  [33.37498722 56.27601106 46.89971561 24.92621844]\n",
      "  [40.32686655 64.96398184 55.27197185 31.95364909]\n",
      "  [48.01700414 74.32565515 55.76846965 39.23023009]]\n",
      "\n",
      " [[26.12925635 13.18402328 41.30853796 21.6675285 ]\n",
      "  [26.86080025 26.99152235 48.53100367 36.48321504]\n",
      "  [42.58655982 33.76434109 56.37028121 33.46925737]\n",
      "  [49.81803055 47.68095003 65.17801017 40.54089487]\n",
      "  [57.98862567 65.58572554 74.92098122 48.61233022]\n",
      "  [66.81879794 85.62771494 75.68397346 57.12678795]]\n",
      "\n",
      " [[12.59824335  9.18443095 25.6741985  25.54347641]\n",
      "  [13.3419002  22.73068093 32.64419615 41.46641488]\n",
      "  [27.4466688  38.34197575 46.8490696  48.98615013]\n",
      "  [34.6962261  55.88703138 64.89926609 57.30216621]\n",
      "  [49.15727442 75.75924461 85.46325156 66.65433456]\n",
      "  [67.20063685 97.63706456 86.47963401 76.53589253]]\n",
      "\n",
      " [[ 8.74864357  8.74864357 21.55123668 12.16245596]\n",
      "  [ 9.62823117 22.43082428 37.01330566 26.11799872]\n",
      "  [23.52067764 38.10315901 54.62499814 33.43419286]\n",
      "  [39.46984609 55.99168522 74.57891013 47.97693995]\n",
      "  [57.57858699 76.1658119  97.0272494  66.59082169]\n",
      "  [ 0.          0.          0.          0.        ]]]\n"
     ]
    }
   ],
   "source": [
    "print(\"state-action value : \\n\\n\", value_iteration.get_q_values())"
   ]
  },
  {
   "cell_type": "code",
   "execution_count": 8,
   "id": "739ccbf5",
   "metadata": {
    "scrolled": true
   },
   "outputs": [
    {
     "name": "stdout",
     "output_type": "stream",
     "text": [
      "optimal policy :\n",
      " \n",
      "-------------------------\n",
      "| ↓ | ↓ | ↓ | ↓ | ↓ | ↓ | \n",
      "-------------------------\n",
      "| → | ↓ | ↓ | ↓ | ↓ | ↓ | \n",
      "-------------------------\n",
      "| → | ↓ | ↓ | ↓ | ↓ | ↓ | \n",
      "-------------------------\n",
      "| → | → | → | → | → | ↓ | \n",
      "-------------------------\n",
      "| → | ↑ | ↑ | → | → | ↓ | \n",
      "-------------------------\n",
      "| → | → | → | → | → | * | \n",
      "-------------------------\n"
     ]
    }
   ],
   "source": [
    "print(\"optimal policy :\\n\", show_actions_on_map(value_iteration, MAP_SIZE))"
   ]
  },
  {
   "cell_type": "markdown",
   "id": "2592fc68",
   "metadata": {},
   "source": [
    "<a name='2-1-2'></a>\n",
    "### Policy Iteration"
   ]
  },
  {
   "cell_type": "code",
   "execution_count": 10,
   "id": "72dbcbb6",
   "metadata": {
    "scrolled": true
   },
   "outputs": [
    {
     "name": "stdout",
     "output_type": "stream",
     "text": [
      "Convergence time: 0.5701236724853516\n"
     ]
    }
   ],
   "source": [
    "policy_iteration = PolicyIteration(FrozenLake(studentNum=Sd_number), Discount, 1e-8, MAP_SIZE)\n",
    "\n",
    "start = time.time()\n",
    "policy_iteration.policy_estimation()\n",
    "end = time.time()\n",
    "\n",
    "print(\"Convergence time:\", end - start)"
   ]
  },
  {
   "cell_type": "code",
   "execution_count": 11,
   "id": "7e99a78e",
   "metadata": {},
   "outputs": [
    {
     "name": "stdout",
     "output_type": "stream",
     "text": [
      "states value :\n",
      " \n",
      "------------------------------------------------------------\n",
      "| 26.1929 | 30.0812 | 17.3231 | 22.7638 | 29.6611 | 36.8419 | \n",
      "------------------------------------------------------------\n",
      "| 30.6258 | 35.6471 | 31.9859 | 38.4259 | 46.1634 | 54.3519 | \n",
      "------------------------------------------------------------\n",
      "| 35.9200 | 41.8198 | 48.6298 | 56.2760 | 64.9640 | 74.3257 | \n",
      "------------------------------------------------------------\n",
      "| 41.3085 | 48.5310 | 56.3703 | 65.1780 | 74.9210 | 85.6277 | \n",
      "------------------------------------------------------------\n",
      "| 25.6742 | 41.4664 | 48.9862 | 64.8993 | 85.4633 | 97.6371 | \n",
      "------------------------------------------------------------\n",
      "| 21.5512 | 37.0133 | 54.6250 | 74.5789 | 97.0272 | 0.0000 | \n",
      "------------------------------------------------------------\n"
     ]
    }
   ],
   "source": [
    "print(\"states value :\\n\", show_states_value_on_map(policy_iteration.get_state_values(), MAP_SIZE))"
   ]
  },
  {
   "cell_type": "code",
   "execution_count": 12,
   "id": "be94f2ce",
   "metadata": {},
   "outputs": [
    {
     "name": "stdout",
     "output_type": "stream",
     "text": [
      "state-action value : \n",
      "\n",
      " [[[22.52333384 26.19285648 16.54290946 22.52333384]\n",
      "  [22.25406176 30.08123284  5.70989766 16.27363738]\n",
      "  [15.74603334 17.32309307  9.68720736  5.18229361]\n",
      "  [ 5.29065143 22.76381015 15.50649154  9.79556517]\n",
      "  [10.28617933 29.66106422 21.94287664 15.99710569]\n",
      "  [16.39790527 36.841947   22.34367621 22.34367621]]\n",
      "\n",
      " [[26.46810978 21.65264356 30.62575822 22.79858714]\n",
      "  [26.37839636 35.64707276 18.30550907 16.72844934]\n",
      "  [30.43530202 31.98589435 23.53712556  6.06396684]\n",
      "  [18.31372514 38.42594177 30.05272431 10.67783942]\n",
      "  [24.18993242 46.16342959 37.37665554 16.9326138 ]\n",
      "  [31.03361312 54.35193588 37.81369633 23.31542554]]\n",
      "\n",
      " [[21.83583513 26.29756297 35.91997776 26.65130135]\n",
      "  [22.1788024  41.81981185 32.70250939 31.15191706]\n",
      "  [36.58198018 48.62976881 39.35263313 19.2404165 ]\n",
      "  [33.37498722 56.27601106 46.89971561 24.92621844]\n",
      "  [40.32686655 64.96398184 55.27197185 31.95364909]\n",
      "  [48.01700414 74.32565515 55.76846965 39.23023009]]\n",
      "\n",
      " [[26.12925635 13.18402328 41.30853796 21.6675285 ]\n",
      "  [26.86080025 26.99152235 48.53100367 36.48321504]\n",
      "  [42.58655982 33.76434109 56.37028121 33.46925737]\n",
      "  [49.81803055 47.68095003 65.17801017 40.54089487]\n",
      "  [57.98862567 65.58572554 74.92098122 48.61233022]\n",
      "  [66.81879794 85.62771494 75.68397346 57.12678795]]\n",
      "\n",
      " [[12.59824335  9.18443095 25.6741985  25.54347641]\n",
      "  [13.3419002  22.73068093 32.64419615 41.46641488]\n",
      "  [27.4466688  38.34197575 46.8490696  48.98615013]\n",
      "  [34.6962261  55.88703138 64.89926609 57.30216621]\n",
      "  [49.15727442 75.75924461 85.46325156 66.65433456]\n",
      "  [67.20063685 97.63706456 86.47963401 76.53589253]]\n",
      "\n",
      " [[ 8.74864357  8.74864357 21.55123668 12.16245596]\n",
      "  [ 9.62823117 22.43082428 37.01330566 26.11799872]\n",
      "  [23.52067764 38.10315901 54.62499814 33.43419286]\n",
      "  [39.46984609 55.99168522 74.57891013 47.97693995]\n",
      "  [57.57858699 76.1658119  97.0272494  66.59082169]\n",
      "  [ 0.          0.          0.          0.        ]]]\n"
     ]
    }
   ],
   "source": [
    "print(\"state-action value : \\n\\n\", value_iteration.get_q_values())"
   ]
  },
  {
   "cell_type": "code",
   "execution_count": 13,
   "id": "533319f5",
   "metadata": {},
   "outputs": [
    {
     "name": "stdout",
     "output_type": "stream",
     "text": [
      "optimal policy :\n",
      " \n",
      "-------------------------\n",
      "| ↓ | ↓ | ↓ | ↓ | ↓ | ↓ | \n",
      "-------------------------\n",
      "| → | ↓ | ↓ | ↓ | ↓ | ↓ | \n",
      "-------------------------\n",
      "| → | ↓ | ↓ | ↓ | ↓ | ↓ | \n",
      "-------------------------\n",
      "| → | → | → | → | → | ↓ | \n",
      "-------------------------\n",
      "| → | ↑ | ↑ | → | → | ↓ | \n",
      "-------------------------\n",
      "| → | → | → | → | → | * | \n",
      "-------------------------\n"
     ]
    }
   ],
   "source": [
    "print(\"optimal policy :\\n\", show_actions_on_map(value_iteration, MAP_SIZE))"
   ]
  },
  {
   "cell_type": "markdown",
   "id": "1f4fa617",
   "metadata": {},
   "source": [
    "<a name='2-2'></a>\n",
    "## Part 2"
   ]
  },
  {
   "cell_type": "code",
   "execution_count": 2,
   "id": "dcf2f3ef",
   "metadata": {},
   "outputs": [
    {
     "name": "stdout",
     "output_type": "stream",
     "text": [
      "\n",
      "-------------------------------------------------------\n",
      "| \u001b[44m0.0000\u001b[0m | 0.8444 | 0.3343 | 0.3058 | 0.8208 | 0.4955 | \n",
      "-------------------------------------------------------\n",
      "| \u001b[43m0.0010\u001b[0m | \u001b[43m0.0010\u001b[0m | 0.7536 | 0.4510 | 0.8006 | 0.3135 | \n",
      "-------------------------------------------------------\n",
      "| 0.3768 | \u001b[43m0.0010\u001b[0m | 0.8268 | 0.8268 | 0.8908 | 0.5312 | \n",
      "-------------------------------------------------------\n",
      "| 0.6320 | \u001b[43m0.0010\u001b[0m | \u001b[43m0.0010\u001b[0m | \u001b[43m0.0010\u001b[0m | \u001b[43m0.0010\u001b[0m | \u001b[43m0.0010\u001b[0m | \n",
      "-------------------------------------------------------\n",
      "| 0.9490 | 0.8463 | 0.6388 | 0.1015 | 0.2757 | \u001b[43m0.0010\u001b[0m | \n",
      "-------------------------------------------------------\n",
      "| 0.6810 | 0.1309 | 0.2624 | 0.1043 | 0.1053 | \u001b[42m0.0000\u001b[0m | \n",
      "-------------------------------------------------------\n"
     ]
    }
   ],
   "source": [
    "from env import FrozenLake\n",
    "\n",
    "MAP_SIZE = 6\n",
    "BREAKING_PROBABILITY = 0.001\n",
    "\n",
    "environment = FrozenLake(studentNum=Sd_number)\n",
    "\n",
    "environment.render()"
   ]
  },
  {
   "cell_type": "markdown",
   "id": "9b309740",
   "metadata": {},
   "source": [
    "<a name='2-2-1'></a>\n",
    "### Value Iteration"
   ]
  },
  {
   "cell_type": "code",
   "execution_count": 7,
   "id": "d4357cb6",
   "metadata": {},
   "outputs": [
    {
     "name": "stdout",
     "output_type": "stream",
     "text": [
      "Convergence time: 2.063612461090088\n"
     ]
    }
   ],
   "source": [
    "value_iteration = ValueIteration(FrozenLake(studentNum=Sd_number), Discount, 1e-8, MAP_SIZE)\n",
    "\n",
    "start = time.time()\n",
    "value_iteration.value_estimation()\n",
    "end = time.time()\n",
    "\n",
    "print(\"Convergence time:\", end - start)"
   ]
  },
  {
   "cell_type": "code",
   "execution_count": 8,
   "id": "3e717c8e",
   "metadata": {},
   "outputs": [
    {
     "name": "stdout",
     "output_type": "stream",
     "text": [
      "states value :\n",
      " \n",
      "------------------------------------------------------------\n",
      "| 4.1375 | 5.4381 | 0.0744 | 5.8946 | 11.2824 | 22.1840 | \n",
      "------------------------------------------------------------\n",
      "| 7.5472 | 10.7228 | 10.4150 | 15.8092 | 23.9532 | 35.2093 | \n",
      "------------------------------------------------------------\n",
      "| 12.5000 | 17.8140 | 24.7531 | 33.0679 | 43.1218 | 54.3110 | \n",
      "------------------------------------------------------------\n",
      "| 16.5526 | 24.9331 | 34.6425 | 45.5745 | 57.5673 | 71.6122 | \n",
      "------------------------------------------------------------\n",
      "| 13.2761 | 27.7960 | 43.6927 | 57.2155 | 73.8153 | 89.9020 | \n",
      "------------------------------------------------------------\n",
      "| 25.1811 | 37.5886 | 53.8614 | 70.5729 | 89.5710 | 0.0000 | \n",
      "------------------------------------------------------------\n"
     ]
    }
   ],
   "source": [
    "print(\"states value :\\n\", show_states_value_on_map(value_iteration.get_state_values(), MAP_SIZE))"
   ]
  },
  {
   "cell_type": "code",
   "execution_count": 9,
   "id": "a62d6a18",
   "metadata": {},
   "outputs": [
    {
     "name": "stdout",
     "output_type": "stream",
     "text": [
      "state-action value : \n",
      "\n",
      " [[[ 2.30220940e+00  4.13745319e+00 -2.06202519e+00  2.30220940e+00]\n",
      "  [ 1.88803968e+00  5.43814149e+00 -2.31183670e+00 -2.47619491e+00]\n",
      "  [-3.40413257e+00 -1.71691181e-01  7.43710490e-02 -3.23977437e+00]\n",
      "  [-1.90202090e+00  5.89463646e+00  1.23156755e+00  1.41212452e+00]\n",
      "  [ 3.62422918e+00  1.04070850e+01  1.12823679e+01  3.44367221e+00]\n",
      "  [ 6.22010270e+00  2.21839597e+01  1.40587983e+01  1.40587983e+01]]\n",
      "\n",
      " [[ 5.83230588e+00  6.25184185e+00  7.54716391e+00  3.99706209e+00]\n",
      "  [ 5.17871381e+00  1.07228269e+01  2.21167682e+00 -1.02076457e+00]\n",
      "  [ 7.79357191e+00  1.04150371e+01  7.84025107e+00  4.35937201e-02]\n",
      "  [ 4.01550194e+00  1.58092180e+01  1.10444200e+01  4.26156417e+00]\n",
      "  [ 1.18429922e+01  2.39531690e+01  2.31437803e+01  7.17992325e+00]\n",
      "  [ 1.71997876e+01  3.52092904e+01  2.62002319e+01  1.80750705e+01]]\n",
      "\n",
      " [[ 7.37545264e+00  8.03308254e+00  1.25000298e+01  6.95591667e+00]\n",
      "  [ 8.84517058e+00  1.78140400e+01  1.27619578e+01  1.01404926e+01]\n",
      "  [ 1.56657639e+01  2.47531152e+01  1.89483299e+01  7.15461381e+00]\n",
      "  [ 1.68694934e+01  3.30679323e+01  2.64048842e+01  1.42947074e+01]\n",
      "  [ 2.49375971e+01  4.31217967e+01  3.81823019e+01  2.01727991e+01]\n",
      "  [ 3.35875870e+01  5.43110027e+01  4.17872569e+01  3.27781983e+01]]\n",
      "\n",
      " [[ 8.24136218e+00  4.56958184e+00  1.65526017e+01  7.58373228e+00]\n",
      "  [ 1.13788013e+01  1.61640197e+01  2.49330999e+01  1.58457486e+01]\n",
      "  [ 2.34961118e+01  2.97997687e+01  3.46424684e+01  1.84440295e+01]\n",
      "  [ 3.31950866e+01  4.47816483e+01  4.55745010e+01  2.73903013e+01]\n",
      "  [ 4.35069421e+01  5.71089694e+01  5.75673098e+01  3.68438940e+01]\n",
      "  [ 5.41514925e+01  7.16122189e+01  6.17357435e+01  4.92119977e+01]]\n",
      "\n",
      " [[ 4.81905135e+00  1.28560400e+01  1.32760501e+01  8.49083169e+00]\n",
      "  [ 9.50932917e+00  2.75470671e+01  2.77960060e+01  2.14923491e+01]\n",
      "  [ 2.33370278e+01  4.09159450e+01  4.36926696e+01  3.21061079e+01]\n",
      "  [ 3.87707551e+01  5.64925503e+01  5.72154821e+01  4.36134547e+01]\n",
      "  [ 5.55617449e+01  7.30108371e+01  7.38153241e+01  5.63545976e+01]\n",
      "  [ 6.81082462e+01  8.99019883e+01  7.84430620e+01  6.85665865e+01]]\n",
      "\n",
      " [[ 1.51803646e+01  1.51803646e+01  2.51811139e+01  7.14337595e+00]\n",
      "  [ 1.95896856e+01  2.95904349e+01  3.75886129e+01  2.00096957e+01]\n",
      "  [ 3.58906285e+01  4.38888064e+01  5.38613625e+01  3.61395673e+01]\n",
      "  [ 5.03471328e+01  6.03196889e+01  7.05729496e+01  5.31238574e+01]\n",
      "  [ 6.70543545e+01  7.73076152e+01  8.95710284e+01  6.77772863e+01]\n",
      "  [ 0.00000000e+00  0.00000000e+00  0.00000000e+00  0.00000000e+00]]]\n"
     ]
    }
   ],
   "source": [
    "print(\"state-action value : \\n\\n\", value_iteration.get_q_values())"
   ]
  },
  {
   "cell_type": "code",
   "execution_count": 10,
   "id": "97d22823",
   "metadata": {},
   "outputs": [
    {
     "name": "stdout",
     "output_type": "stream",
     "text": [
      "optimal policy :\n",
      " \n",
      "-------------------------\n",
      "| ↓ | ↓ | → | ↓ | → | ↓ | \n",
      "-------------------------\n",
      "| → | ↓ | ↓ | ↓ | ↓ | ↓ | \n",
      "-------------------------\n",
      "| → | ↓ | ↓ | ↓ | ↓ | ↓ | \n",
      "-------------------------\n",
      "| → | → | → | → | → | ↓ | \n",
      "-------------------------\n",
      "| → | → | → | → | → | ↓ | \n",
      "-------------------------\n",
      "| → | → | → | → | → | * | \n",
      "-------------------------\n"
     ]
    }
   ],
   "source": [
    "print(\"optimal policy :\\n\", show_actions_on_map(value_iteration, MAP_SIZE))"
   ]
  },
  {
   "cell_type": "markdown",
   "id": "e48493ea",
   "metadata": {},
   "source": [
    "<a name='2-2-2'></a>\n",
    "### Policy Iteration"
   ]
  },
  {
   "cell_type": "code",
   "execution_count": 11,
   "id": "f955ffac",
   "metadata": {},
   "outputs": [
    {
     "name": "stdout",
     "output_type": "stream",
     "text": [
      "Convergence time: 1.35288405418396\n"
     ]
    }
   ],
   "source": [
    "from env import FrozenLake\n",
    "\n",
    "policy_iteration = PolicyIteration(FrozenLake(studentNum=Sd_number), Discount, 1e-8, MAP_SIZE)\n",
    "\n",
    "start = time.time()\n",
    "policy_iteration.policy_estimation()\n",
    "end = time.time()\n",
    "\n",
    "print(\"Convergence time:\", end - start)"
   ]
  },
  {
   "cell_type": "code",
   "execution_count": 12,
   "id": "9cb82e20",
   "metadata": {},
   "outputs": [
    {
     "name": "stdout",
     "output_type": "stream",
     "text": [
      "states value :\n",
      " \n",
      "------------------------------------------------------------\n",
      "| 4.1375 | 5.4381 | 0.0744 | 5.8946 | 11.2824 | 22.1840 | \n",
      "------------------------------------------------------------\n",
      "| 7.5472 | 10.7228 | 10.4150 | 15.8092 | 23.9532 | 35.2093 | \n",
      "------------------------------------------------------------\n",
      "| 12.5000 | 17.8140 | 24.7531 | 33.0679 | 43.1218 | 54.3110 | \n",
      "------------------------------------------------------------\n",
      "| 16.5526 | 24.9331 | 34.6425 | 45.5745 | 57.5673 | 71.6122 | \n",
      "------------------------------------------------------------\n",
      "| 13.2761 | 27.7960 | 43.6927 | 57.2155 | 73.8153 | 89.9020 | \n",
      "------------------------------------------------------------\n",
      "| 25.1811 | 37.5886 | 53.8614 | 70.5729 | 89.5710 | 0.0000 | \n",
      "------------------------------------------------------------\n"
     ]
    }
   ],
   "source": [
    "print(\"states value :\\n\", show_states_value_on_map(policy_iteration.get_state_values(), MAP_SIZE))"
   ]
  },
  {
   "cell_type": "code",
   "execution_count": 13,
   "id": "b0943f36",
   "metadata": {},
   "outputs": [
    {
     "name": "stdout",
     "output_type": "stream",
     "text": [
      "state-action value : \n",
      "\n",
      " [[[ 2.30220940e+00  4.13745319e+00 -2.06202519e+00  2.30220940e+00]\n",
      "  [ 1.88803968e+00  5.43814149e+00 -2.31183670e+00 -2.47619491e+00]\n",
      "  [-3.40413257e+00 -1.71691181e-01  7.43710490e-02 -3.23977437e+00]\n",
      "  [-1.90202090e+00  5.89463646e+00  1.23156755e+00  1.41212452e+00]\n",
      "  [ 3.62422918e+00  1.04070850e+01  1.12823679e+01  3.44367221e+00]\n",
      "  [ 6.22010270e+00  2.21839597e+01  1.40587983e+01  1.40587983e+01]]\n",
      "\n",
      " [[ 5.83230588e+00  6.25184185e+00  7.54716391e+00  3.99706209e+00]\n",
      "  [ 5.17871381e+00  1.07228269e+01  2.21167682e+00 -1.02076457e+00]\n",
      "  [ 7.79357191e+00  1.04150371e+01  7.84025107e+00  4.35937201e-02]\n",
      "  [ 4.01550194e+00  1.58092180e+01  1.10444200e+01  4.26156417e+00]\n",
      "  [ 1.18429922e+01  2.39531690e+01  2.31437803e+01  7.17992325e+00]\n",
      "  [ 1.71997876e+01  3.52092904e+01  2.62002319e+01  1.80750705e+01]]\n",
      "\n",
      " [[ 7.37545264e+00  8.03308254e+00  1.25000298e+01  6.95591667e+00]\n",
      "  [ 8.84517058e+00  1.78140400e+01  1.27619578e+01  1.01404926e+01]\n",
      "  [ 1.56657639e+01  2.47531152e+01  1.89483299e+01  7.15461381e+00]\n",
      "  [ 1.68694934e+01  3.30679323e+01  2.64048842e+01  1.42947074e+01]\n",
      "  [ 2.49375971e+01  4.31217967e+01  3.81823019e+01  2.01727991e+01]\n",
      "  [ 3.35875870e+01  5.43110027e+01  4.17872569e+01  3.27781983e+01]]\n",
      "\n",
      " [[ 8.24136218e+00  4.56958184e+00  1.65526017e+01  7.58373228e+00]\n",
      "  [ 1.13788013e+01  1.61640197e+01  2.49330999e+01  1.58457486e+01]\n",
      "  [ 2.34961118e+01  2.97997687e+01  3.46424684e+01  1.84440295e+01]\n",
      "  [ 3.31950866e+01  4.47816483e+01  4.55745010e+01  2.73903013e+01]\n",
      "  [ 4.35069421e+01  5.71089694e+01  5.75673098e+01  3.68438940e+01]\n",
      "  [ 5.41514925e+01  7.16122189e+01  6.17357435e+01  4.92119977e+01]]\n",
      "\n",
      " [[ 4.81905135e+00  1.28560400e+01  1.32760501e+01  8.49083169e+00]\n",
      "  [ 9.50932917e+00  2.75470671e+01  2.77960060e+01  2.14923491e+01]\n",
      "  [ 2.33370278e+01  4.09159450e+01  4.36926696e+01  3.21061079e+01]\n",
      "  [ 3.87707551e+01  5.64925503e+01  5.72154821e+01  4.36134547e+01]\n",
      "  [ 5.55617449e+01  7.30108371e+01  7.38153241e+01  5.63545976e+01]\n",
      "  [ 6.81082462e+01  8.99019883e+01  7.84430620e+01  6.85665865e+01]]\n",
      "\n",
      " [[ 1.51803646e+01  1.51803646e+01  2.51811139e+01  7.14337595e+00]\n",
      "  [ 1.95896856e+01  2.95904349e+01  3.75886129e+01  2.00096957e+01]\n",
      "  [ 3.58906285e+01  4.38888064e+01  5.38613625e+01  3.61395673e+01]\n",
      "  [ 5.03471328e+01  6.03196889e+01  7.05729496e+01  5.31238574e+01]\n",
      "  [ 6.70543545e+01  7.73076152e+01  8.95710284e+01  6.77772863e+01]\n",
      "  [ 0.00000000e+00  0.00000000e+00  0.00000000e+00  0.00000000e+00]]]\n"
     ]
    }
   ],
   "source": [
    "print(\"state-action value : \\n\\n\", value_iteration.get_q_values())"
   ]
  },
  {
   "cell_type": "code",
   "execution_count": 14,
   "id": "c93937af",
   "metadata": {},
   "outputs": [
    {
     "name": "stdout",
     "output_type": "stream",
     "text": [
      "optimal policy :\n",
      " \n",
      "-------------------------\n",
      "| ↓ | ↓ | → | ↓ | → | ↓ | \n",
      "-------------------------\n",
      "| → | ↓ | ↓ | ↓ | ↓ | ↓ | \n",
      "-------------------------\n",
      "| → | ↓ | ↓ | ↓ | ↓ | ↓ | \n",
      "-------------------------\n",
      "| → | → | → | → | → | ↓ | \n",
      "-------------------------\n",
      "| → | → | → | → | → | ↓ | \n",
      "-------------------------\n",
      "| → | → | → | → | → | * | \n",
      "-------------------------\n"
     ]
    }
   ],
   "source": [
    "print(\"optimal policy :\\n\", show_actions_on_map(value_iteration, MAP_SIZE))"
   ]
  },
  {
   "cell_type": "markdown",
   "id": "00e566e7",
   "metadata": {},
   "source": [
    "<a name='2-3'></a>\n",
    "## Part 3"
   ]
  },
  {
   "cell_type": "code",
   "execution_count": null,
   "id": "b3c30b51",
   "metadata": {},
   "outputs": [],
   "source": []
  },
  {
   "cell_type": "markdown",
   "id": "4139636a",
   "metadata": {},
   "source": [
    "<a name='2-3-1'></a>\n",
    "### A"
   ]
  },
  {
   "cell_type": "code",
   "execution_count": null,
   "id": "188d9f1e",
   "metadata": {},
   "outputs": [],
   "source": []
  },
  {
   "cell_type": "markdown",
   "id": "c9775b2b",
   "metadata": {},
   "source": [
    "<a name='2-3-2'></a>\n",
    "### B"
   ]
  },
  {
   "cell_type": "code",
   "execution_count": null,
   "id": "959eaf1f",
   "metadata": {},
   "outputs": [],
   "source": []
  }
 ],
 "metadata": {
  "kernelspec": {
   "display_name": "Python 3",
   "language": "python",
   "name": "python3"
  },
  "language_info": {
   "codemirror_mode": {
    "name": "ipython",
    "version": 3
   },
   "file_extension": ".py",
   "mimetype": "text/x-python",
   "name": "python",
   "nbconvert_exporter": "python",
   "pygments_lexer": "ipython3",
   "version": "3.8.8"
  }
 },
 "nbformat": 4,
 "nbformat_minor": 5
}
