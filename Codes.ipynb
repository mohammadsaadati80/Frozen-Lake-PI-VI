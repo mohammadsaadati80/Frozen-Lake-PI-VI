{
 "cells": [
  {
   "cell_type": "markdown",
   "id": "ac1cb838",
   "metadata": {},
   "source": [
    "<br><br>\n",
    "\n",
    "<font color=#191347 ><font>\n",
    "<p style = \"font-family:times;\">\n",
    "    <font size=\"7\">\n",
    "        Interactive Learning \n",
    "    </font>    \n",
    "</p>\n",
    "\n",
    "<br>\n",
    "    \n",
    "<font color=#ed1c24><font>\n",
    "<p style = \"font-family:optima;\">\n",
    "    <font size=\"6\">\n",
    "        Homework #3\n",
    "    </font>    \n",
    "<font color=#000000> <font>\n",
    "</p>\n",
    "\n",
    "> $\\textit{Mohammad Saadati - 810198410}$"
   ]
  },
  {
   "cell_type": "markdown",
   "id": "2ff047b5",
   "metadata": {},
   "source": [
    "# Table of Contents\n",
    "\n",
    "- [Packages](#0)\n",
    "- [Problem 2](#1)\n",
    "    - [Question 1](#1-1)\n",
    "    - [Question 2](#1-2)\n",
    "    - [Question 3](#1-3)\n",
    "    - [Question 4](#1-4)\n",
    "- [Problem 3](#2)\n",
    "    - [َPart 1](#2-1)\n",
    "        - [Value Iteration](#2-1-1)\n",
    "        - [Policy Iteration](#2-1-2)\n",
    "    - [Part 2](#2-2)\n",
    "        - [Value Iteration](#2-2-1)\n",
    "        - [Policy Iteration](#2-2-2)\n",
    "    - [Part 3](#2-3)\n",
    "        - [A](#2-3-1)\n",
    "        - [B](#2-3-2)"
   ]
  },
  {
   "cell_type": "markdown",
   "id": "01beeea4",
   "metadata": {},
   "source": [
    "<a name='0'></a>\n",
    "## Packages\n",
    "\n",
    "Run the following cell to load the packages you'll need."
   ]
  },
  {
   "cell_type": "code",
   "execution_count": 1,
   "id": "c241c39b",
   "metadata": {},
   "outputs": [],
   "source": [
    "import numpy as np\n",
    "import itertools\n",
    "from gym import Env\n",
    "\n",
    "from env import FrozenLake\n",
    "from env import make_map\n",
    "\n",
    "# Action Space \n",
    "LEFT = 0\n",
    "DOWN = 1\n",
    "RIGHT = 2\n",
    "UP = 3\n",
    "X = 0\n",
    "Y = 1\n",
    "\n",
    "ACTION_SPACE = [LEFT,DOWN,RIGHT,UP]\n",
    "ACTIONS_NAMES = [\"←\",\"↓\",\"→\",\"↑\"]\n",
    "\n",
    "Discount = 0.9\n",
    "Sd_number = 810198410"
   ]
  },
  {
   "cell_type": "markdown",
   "id": "dfb05f60",
   "metadata": {},
   "source": [
    "<a name='1'></a>\n",
    "# Problem 2"
   ]
  },
  {
   "cell_type": "code",
   "execution_count": null,
   "id": "17a9250c",
   "metadata": {},
   "outputs": [],
   "source": []
  },
  {
   "cell_type": "markdown",
   "id": "8bab0958",
   "metadata": {},
   "source": [
    "<a name='1-1'></a>\n",
    "## Question 1"
   ]
  },
  {
   "cell_type": "code",
   "execution_count": null,
   "id": "f1c37ee4",
   "metadata": {},
   "outputs": [],
   "source": []
  },
  {
   "cell_type": "markdown",
   "id": "cf069976",
   "metadata": {},
   "source": [
    "<a name='1-2'></a>\n",
    "## Question 2"
   ]
  },
  {
   "cell_type": "code",
   "execution_count": null,
   "id": "97733138",
   "metadata": {},
   "outputs": [],
   "source": []
  },
  {
   "cell_type": "markdown",
   "id": "c2e01ac6",
   "metadata": {},
   "source": [
    "<a name='1-3'></a>\n",
    "## Question 3"
   ]
  },
  {
   "cell_type": "code",
   "execution_count": null,
   "id": "b84443c6",
   "metadata": {},
   "outputs": [],
   "source": []
  },
  {
   "cell_type": "markdown",
   "id": "04fcc9ce",
   "metadata": {},
   "source": [
    "<a name='1-4'></a>\n",
    "## Question 4"
   ]
  },
  {
   "cell_type": "code",
   "execution_count": null,
   "id": "7c008c1a",
   "metadata": {},
   "outputs": [],
   "source": []
  },
  {
   "cell_type": "markdown",
   "id": "d446a86e",
   "metadata": {},
   "source": [
    "<a name='2'></a>\n",
    "# Problem 3"
   ]
  },
  {
   "cell_type": "code",
   "execution_count": 2,
   "id": "11a420a7",
   "metadata": {},
   "outputs": [],
   "source": [
    "def show_states_value_on_map(states_value, map_size):\n",
    "    environment_map = \"\"\n",
    "    for i in range(map_size):\n",
    "        environment_map += (\"\\n\"+ int(10*map_size)*\"-\" + \"\\n| \")\n",
    "        for j in range(map_size):\n",
    "            environment_map += \"{:.4f} | \".format(states_value[i,j])           \n",
    "    environment_map += (\"\\n\" + int(10*map_size)*\"-\")\n",
    "    return environment_map\n",
    "\n",
    "def show_actions_on_map(value_iteration, map_size):\n",
    "    environment_map = \"\"\n",
    "    for i in range(map_size):\n",
    "        environment_map += (\"\\n\"+ int(4.3*map_size)*\"-\" + \"\\n| \")\n",
    "        for j in range(map_size):\n",
    "            if (i,j)!=(map_size-1,map_size-1):\n",
    "                environment_map += \"{D} | \".format(D=ACTIONS_NAMES[value_iteration.get_optimal_policy([i, j])])\n",
    "            else:\n",
    "                environment_map += \"* | \"          \n",
    "    environment_map += (\"\\n\" + int(4.3*map_size)*\"-\")\n",
    "    return environment_map"
   ]
  },
  {
   "cell_type": "markdown",
   "id": "e1ed1706",
   "metadata": {},
   "source": [
    "<a name='2-1'></a>\n",
    "## Part 1"
   ]
  },
  {
   "cell_type": "code",
   "execution_count": 3,
   "id": "376207cb",
   "metadata": {
    "scrolled": false
   },
   "outputs": [
    {
     "name": "stdout",
     "output_type": "stream",
     "text": [
      "\n",
      "-------------------------------------------------------\n",
      "| \u001b[44m0.0000\u001b[0m | 1.0000 | 1.0000 | 1.0000 | 1.0000 | 1.0000 | \n",
      "-------------------------------------------------------\n",
      "| \u001b[43m0.0001\u001b[0m | \u001b[43m0.0001\u001b[0m | 1.0000 | 1.0000 | 1.0000 | 1.0000 | \n",
      "-------------------------------------------------------\n",
      "| 1.0000 | \u001b[43m0.0001\u001b[0m | 1.0000 | 1.0000 | 1.0000 | 1.0000 | \n",
      "-------------------------------------------------------\n",
      "| 1.0000 | \u001b[43m0.0001\u001b[0m | \u001b[43m0.0001\u001b[0m | \u001b[43m0.0001\u001b[0m | \u001b[43m0.0001\u001b[0m | \u001b[43m0.0001\u001b[0m | \n",
      "-------------------------------------------------------\n",
      "| 1.0000 | 1.0000 | 1.0000 | 1.0000 | 1.0000 | \u001b[43m0.0001\u001b[0m | \n",
      "-------------------------------------------------------\n",
      "| 1.0000 | 1.0000 | 1.0000 | 1.0000 | 1.0000 | \u001b[42m0.0000\u001b[0m | \n",
      "-------------------------------------------------------\n"
     ]
    }
   ],
   "source": [
    "MAP_SIZE = 6\n",
    "BREAKING_PROBABILITY = 0.0001\n",
    "\n",
    "environment = FrozenLake(studentNum=Sd_number)\n",
    "\n",
    "environment.render()"
   ]
  },
  {
   "cell_type": "markdown",
   "id": "0cd5d2af",
   "metadata": {},
   "source": [
    "<a name='2-1-1'></a>\n",
    "### Value Iteration"
   ]
  },
  {
   "cell_type": "code",
   "execution_count": 4,
   "id": "11eb7c8b",
   "metadata": {},
   "outputs": [],
   "source": [
    "class ValueIteration():\n",
    "    def __init__(self, env, discount, theta, map_size):\n",
    "        self.env = env\n",
    "        self.discount = discount\n",
    "        self.theta = theta\n",
    "        self.map_size = map_size\n",
    "        self.delta = 0\n",
    "        self.state_values = np.zeros((self.map_size,self.map_size))\n",
    "        self.q_values = np.zeros((self.map_size,self.map_size,4))\n",
    "    \n",
    "    def value_estimation(self):\n",
    "        self.delta = np.inf\n",
    "        \n",
    "        while(self.delta > self.theta):\n",
    "            \n",
    "            self.delta = 0\n",
    "            \n",
    "            for state in itertools.product(range(self.map_size), range(self.map_size)):\n",
    "                if (state[X],state[Y]) == (self.map_size-1,self.map_size-1):\n",
    "                    continue\n",
    "                    \n",
    "                for action in ACTION_SPACE:\n",
    "                    next_states, states_probability, breaking_possibility, is_end = self.env.find_next_states(action=action, current_state=(state[X],state[Y]))\n",
    "                    reward = np.where(is_end, 99, ((1-breaking_possibility) * -1) + (breaking_possibility * -11))\n",
    "                    next_states = np.array(next_states)\n",
    "                    self.q_values[state[X],state[Y],action] = np.sum(states_probability*(reward+self.discount*self.state_values[next_states[:,0], next_states[:,1]]))\n",
    "    \n",
    "                v = self.state_values[state[X],state[Y]]\n",
    "\n",
    "                self.state_values[state[X],state[Y]] = np.max(self.q_values[state[X],state[Y],:])\n",
    "\n",
    "                self.delta = np.max([self.delta, abs(v - self.state_values[state[X],state[Y]])])\n",
    "    \n",
    "    def get_optimal_policy(self, state):\n",
    "        return np.argmax(self.q_values[state[X],state[Y],:])\n",
    "    \n",
    "    def get_state_values(self):\n",
    "        return self.state_values\n",
    "    \n",
    "    def get_q_values(self):\n",
    "        return self.q_values"
   ]
  },
  {
   "cell_type": "code",
   "execution_count": 5,
   "id": "1ff397e4",
   "metadata": {},
   "outputs": [
    {
     "name": "stdout",
     "output_type": "stream",
     "text": [
      "states value :\n",
      " \n",
      "------------------------------------------------------------\n",
      "| 26.1929 | 30.0812 | 17.3231 | 22.7638 | 29.6611 | 36.8419 | \n",
      "------------------------------------------------------------\n",
      "| 30.6258 | 35.6471 | 31.9859 | 38.4259 | 46.1634 | 54.3519 | \n",
      "------------------------------------------------------------\n",
      "| 35.9200 | 41.8198 | 48.6298 | 56.2760 | 64.9640 | 74.3257 | \n",
      "------------------------------------------------------------\n",
      "| 41.3085 | 48.5310 | 56.3703 | 65.1780 | 74.9210 | 85.6277 | \n",
      "------------------------------------------------------------\n",
      "| 25.6742 | 41.4664 | 48.9862 | 64.8993 | 85.4633 | 97.6371 | \n",
      "------------------------------------------------------------\n",
      "| 21.5512 | 37.0133 | 54.6250 | 74.5789 | 97.0272 | 0.0000 | \n",
      "------------------------------------------------------------\n"
     ]
    }
   ],
   "source": [
    "value_iteration = ValueIteration(FrozenLake(studentNum=Sd_number), Discount, 1e-8, MAP_SIZE)\n",
    "value_iteration.value_estimation()\n",
    "\n",
    "print(\"states value :\\n\", show_states_value_on_map(value_iteration.get_state_values(), MAP_SIZE))"
   ]
  },
  {
   "cell_type": "code",
   "execution_count": 6,
   "id": "f93b7c8f",
   "metadata": {
    "scrolled": false
   },
   "outputs": [
    {
     "name": "stdout",
     "output_type": "stream",
     "text": [
      "state-action value : \n",
      "\n",
      " [[[22.52333384 26.19285648 16.54290946 22.52333384]\n",
      "  [22.25406176 30.08123284  5.70989766 16.27363738]\n",
      "  [15.74603334 17.32309307  9.68720736  5.18229361]\n",
      "  [ 5.29065143 22.76381015 15.50649154  9.79556517]\n",
      "  [10.28617933 29.66106422 21.94287664 15.99710569]\n",
      "  [16.39790527 36.841947   22.34367621 22.34367621]]\n",
      "\n",
      " [[26.46810978 21.65264356 30.62575822 22.79858714]\n",
      "  [26.37839636 35.64707276 18.30550907 16.72844934]\n",
      "  [30.43530202 31.98589435 23.53712556  6.06396684]\n",
      "  [18.31372514 38.42594177 30.05272431 10.67783942]\n",
      "  [24.18993242 46.16342959 37.37665554 16.9326138 ]\n",
      "  [31.03361312 54.35193588 37.81369633 23.31542554]]\n",
      "\n",
      " [[21.83583513 26.29756297 35.91997776 26.65130135]\n",
      "  [22.1788024  41.81981185 32.70250939 31.15191706]\n",
      "  [36.58198018 48.62976881 39.35263313 19.2404165 ]\n",
      "  [33.37498722 56.27601106 46.89971561 24.92621844]\n",
      "  [40.32686655 64.96398184 55.27197185 31.95364909]\n",
      "  [48.01700414 74.32565515 55.76846965 39.23023009]]\n",
      "\n",
      " [[26.12925635 13.18402328 41.30853796 21.6675285 ]\n",
      "  [26.86080025 26.99152235 48.53100367 36.48321504]\n",
      "  [42.58655982 33.76434109 56.37028121 33.46925737]\n",
      "  [49.81803055 47.68095003 65.17801017 40.54089487]\n",
      "  [57.98862567 65.58572554 74.92098122 48.61233022]\n",
      "  [66.81879794 85.62771494 75.68397346 57.12678795]]\n",
      "\n",
      " [[12.59824335  9.18443095 25.6741985  25.54347641]\n",
      "  [13.3419002  22.73068093 32.64419615 41.46641488]\n",
      "  [27.4466688  38.34197575 46.8490696  48.98615013]\n",
      "  [34.6962261  55.88703138 64.89926609 57.30216621]\n",
      "  [49.15727442 75.75924461 85.46325156 66.65433456]\n",
      "  [67.20063685 97.63706456 86.47963401 76.53589253]]\n",
      "\n",
      " [[ 8.74864357  8.74864357 21.55123668 12.16245596]\n",
      "  [ 9.62823117 22.43082428 37.01330566 26.11799872]\n",
      "  [23.52067764 38.10315901 54.62499814 33.43419286]\n",
      "  [39.46984609 55.99168522 74.57891013 47.97693995]\n",
      "  [57.57858699 76.1658119  97.0272494  66.59082169]\n",
      "  [ 0.          0.          0.          0.        ]]]\n"
     ]
    }
   ],
   "source": [
    "print(\"state-action value : \\n\\n\", value_iteration.get_q_values())"
   ]
  },
  {
   "cell_type": "code",
   "execution_count": 7,
   "id": "739ccbf5",
   "metadata": {
    "scrolled": true
   },
   "outputs": [
    {
     "name": "stdout",
     "output_type": "stream",
     "text": [
      "optimal policy :\n",
      " \n",
      "-------------------------\n",
      "| ↓ | ↓ | ↓ | ↓ | ↓ | ↓ | \n",
      "-------------------------\n",
      "| → | ↓ | ↓ | ↓ | ↓ | ↓ | \n",
      "-------------------------\n",
      "| → | ↓ | ↓ | ↓ | ↓ | ↓ | \n",
      "-------------------------\n",
      "| → | → | → | → | → | ↓ | \n",
      "-------------------------\n",
      "| → | ↑ | ↑ | → | → | ↓ | \n",
      "-------------------------\n",
      "| → | → | → | → | → | * | \n",
      "-------------------------\n"
     ]
    }
   ],
   "source": [
    "print(\"optimal policy :\\n\", show_actions_on_map(value_iteration, MAP_SIZE))"
   ]
  },
  {
   "cell_type": "markdown",
   "id": "481abcf2",
   "metadata": {},
   "source": [
    "<a name='2-1-2'></a>\n",
    "### Policy Iteration"
   ]
  },
  {
   "cell_type": "code",
   "execution_count": null,
   "id": "507ccc95",
   "metadata": {},
   "outputs": [],
   "source": []
  },
  {
   "cell_type": "markdown",
   "id": "1f4fa617",
   "metadata": {},
   "source": [
    "<a name='2-2'></a>\n",
    "## Part 2"
   ]
  },
  {
   "cell_type": "markdown",
   "id": "76f9855a",
   "metadata": {},
   "source": [
    "<a name='2-2-1'></a>\n",
    "### Value Iteration"
   ]
  },
  {
   "cell_type": "markdown",
   "id": "41983bd3",
   "metadata": {},
   "source": [
    "<a name='2-2-2'></a>\n",
    "### Policy Iteration"
   ]
  },
  {
   "cell_type": "code",
   "execution_count": null,
   "id": "f955ffac",
   "metadata": {},
   "outputs": [],
   "source": []
  },
  {
   "cell_type": "markdown",
   "id": "00e566e7",
   "metadata": {},
   "source": [
    "<a name='2-3'></a>\n",
    "## Part 3"
   ]
  },
  {
   "cell_type": "code",
   "execution_count": null,
   "id": "b3c30b51",
   "metadata": {},
   "outputs": [],
   "source": []
  },
  {
   "cell_type": "markdown",
   "id": "4139636a",
   "metadata": {},
   "source": [
    "<a name='2-3-1'></a>\n",
    "### A"
   ]
  },
  {
   "cell_type": "code",
   "execution_count": null,
   "id": "188d9f1e",
   "metadata": {},
   "outputs": [],
   "source": []
  },
  {
   "cell_type": "markdown",
   "id": "c9775b2b",
   "metadata": {},
   "source": [
    "<a name='2-3-2'></a>\n",
    "### B"
   ]
  },
  {
   "cell_type": "code",
   "execution_count": null,
   "id": "959eaf1f",
   "metadata": {},
   "outputs": [],
   "source": []
  }
 ],
 "metadata": {
  "kernelspec": {
   "display_name": "Python 3",
   "language": "python",
   "name": "python3"
  },
  "language_info": {
   "codemirror_mode": {
    "name": "ipython",
    "version": 3
   },
   "file_extension": ".py",
   "mimetype": "text/x-python",
   "name": "python",
   "nbconvert_exporter": "python",
   "pygments_lexer": "ipython3",
   "version": "3.8.8"
  }
 },
 "nbformat": 4,
 "nbformat_minor": 5
}
