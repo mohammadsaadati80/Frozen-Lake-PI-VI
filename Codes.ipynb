{
 "cells": [
  {
   "cell_type": "markdown",
   "id": "ac1cb838",
   "metadata": {},
   "source": [
    "<br><br>\n",
    "\n",
    "<font color=#191347 ><font>\n",
    "<p style = \"font-family:times;\">\n",
    "    <font size=\"7\">\n",
    "        Interactive Learning \n",
    "    </font>    \n",
    "</p>\n",
    "\n",
    "<br>\n",
    "    \n",
    "<font color=#ed1c24><font>\n",
    "<p style = \"font-family:optima;\">\n",
    "    <font size=\"6\">\n",
    "        Homework #3\n",
    "    </font>    \n",
    "<font color=#000000> <font>\n",
    "</p>\n",
    "\n",
    "> $\\textit{Mohammad Saadati - 810198410}$"
   ]
  },
  {
   "cell_type": "markdown",
   "id": "2ff047b5",
   "metadata": {},
   "source": [
    "# Table of Contents\n",
    "\n",
    "- [Packages](#0)\n",
    "- [Problem 2](#1)\n",
    "    - [Question 1](#1-1)\n",
    "    - [Question 2](#1-2)\n",
    "    - [Question 3](#1-3)\n",
    "    - [Question 4](#1-4)\n",
    "- [Problem 3](#2)\n",
    "    - [َPart 1](#2-1)\n",
    "        - [Value Iteration](#2-1-1)\n",
    "        - [Policy Iteration](#2-1-2)\n",
    "    - [Part 2](#2-2)\n",
    "        - [Value Iteration](#2-2-1)\n",
    "        - [Policy Iteration](#2-2-2)\n",
    "    - [Part 3](#2-3)\n",
    "        - [A](#2-3-1)\n",
    "        - [B](#2-3-2)"
   ]
  },
  {
   "cell_type": "markdown",
   "id": "01beeea4",
   "metadata": {},
   "source": [
    "<a name='0'></a>\n",
    "## Packages\n",
    "\n",
    "Run the following cell to load the packages you'll need."
   ]
  },
  {
   "cell_type": "code",
   "execution_count": 1,
   "id": "c241c39b",
   "metadata": {},
   "outputs": [],
   "source": [
    "import numpy as np\n",
    "import itertools\n",
    "import copy\n",
    "import time\n",
    "from gym import Env\n",
    "\n",
    "from env import FrozenLake\n",
    "\n",
    "# Action Space \n",
    "LEFT = 0\n",
    "DOWN = 1\n",
    "RIGHT = 2\n",
    "UP = 3\n",
    "X = 0\n",
    "Y = 1\n",
    "\n",
    "ACTION_SPACE = [LEFT,DOWN,RIGHT,UP]\n",
    "ACTIONS_NAMES = [\"←\",\"↓\",\"→\",\"↑\"]\n",
    "\n",
    "Discount = 0.9\n",
    "Sd_number = 810198410"
   ]
  },
  {
   "cell_type": "markdown",
   "id": "dfb05f60",
   "metadata": {},
   "source": [
    "<a name='1'></a>\n",
    "# Problem 2"
   ]
  },
  {
   "cell_type": "code",
   "execution_count": null,
   "id": "17a9250c",
   "metadata": {},
   "outputs": [],
   "source": []
  },
  {
   "cell_type": "markdown",
   "id": "8bab0958",
   "metadata": {},
   "source": [
    "<a name='1-1'></a>\n",
    "## Question 1"
   ]
  },
  {
   "cell_type": "code",
   "execution_count": null,
   "id": "f1c37ee4",
   "metadata": {},
   "outputs": [],
   "source": []
  },
  {
   "cell_type": "markdown",
   "id": "cf069976",
   "metadata": {},
   "source": [
    "<a name='1-2'></a>\n",
    "## Question 2"
   ]
  },
  {
   "cell_type": "code",
   "execution_count": null,
   "id": "97733138",
   "metadata": {},
   "outputs": [],
   "source": []
  },
  {
   "cell_type": "markdown",
   "id": "c2e01ac6",
   "metadata": {},
   "source": [
    "<a name='1-3'></a>\n",
    "## Question 3"
   ]
  },
  {
   "cell_type": "code",
   "execution_count": null,
   "id": "b84443c6",
   "metadata": {},
   "outputs": [],
   "source": []
  },
  {
   "cell_type": "markdown",
   "id": "04fcc9ce",
   "metadata": {},
   "source": [
    "<a name='1-4'></a>\n",
    "## Question 4"
   ]
  },
  {
   "cell_type": "code",
   "execution_count": null,
   "id": "7c008c1a",
   "metadata": {},
   "outputs": [],
   "source": []
  },
  {
   "cell_type": "markdown",
   "id": "d446a86e",
   "metadata": {},
   "source": [
    "<a name='2'></a>\n",
    "# Problem 3"
   ]
  },
  {
   "cell_type": "code",
   "execution_count": 2,
   "id": "e609ca5b",
   "metadata": {},
   "outputs": [],
   "source": [
    "def show_states_value_on_map(states_value, map_size):\n",
    "    environment_map = \"\"\n",
    "    for i in range(map_size):\n",
    "        environment_map += (\"\\n\"+ int(10*map_size)*\"-\" + \"\\n| \")\n",
    "        for j in range(map_size):\n",
    "            environment_map += \"{:.4f} | \".format(states_value[i,j])           \n",
    "    environment_map += (\"\\n\" + int(10*map_size)*\"-\")\n",
    "    return environment_map\n",
    "\n",
    "def show_actions_on_map(iteration, map_size):\n",
    "    environment_map = \"\"\n",
    "    for i in range(map_size):\n",
    "        environment_map += (\"\\n\"+ int(4.3*map_size)*\"-\" + \"\\n| \")\n",
    "        for j in range(map_size):\n",
    "            if (i,j)!=(map_size-1,map_size-1):\n",
    "                environment_map += \"{D} | \".format(D=ACTIONS_NAMES[iteration.get_optimal_policy([i, j])])\n",
    "            else:\n",
    "                environment_map += \"* | \"          \n",
    "    environment_map += (\"\\n\" + int(4.3*map_size)*\"-\")\n",
    "    return environment_map"
   ]
  },
  {
   "cell_type": "code",
   "execution_count": 36,
   "id": "11eb7c8b",
   "metadata": {},
   "outputs": [],
   "source": [
    "class ValueIteration():\n",
    "    def __init__(self, env, discount, theta, map_size):\n",
    "        self.env = env\n",
    "        self.discount = discount\n",
    "        self.theta = theta\n",
    "        self.map_size = map_size\n",
    "        self.delta = 0\n",
    "        self.state_values = np.zeros((self.map_size,self.map_size))\n",
    "        self.q_values = np.zeros((self.map_size,self.map_size,4))\n",
    "    \n",
    "    def value_estimation(self):\n",
    "        self.delta = np.inf\n",
    "        \n",
    "        while(self.delta > self.theta):\n",
    "            \n",
    "            self.delta = 0\n",
    "            \n",
    "            for state in itertools.product(range(self.map_size), range(self.map_size)):\n",
    "                if (state[X],state[Y]) == (self.map_size-1,self.map_size-1):\n",
    "                    continue\n",
    "                    \n",
    "                for action in ACTION_SPACE:\n",
    "                    next_states, states_probability, breaking_possibility, is_end = self.env.find_next_states(action=action, current_state=(state[X],state[Y]))\n",
    "                    reward = np.where(is_end, 99, ((1-breaking_possibility) * -1) + (breaking_possibility * -11))\n",
    "                    next_states = np.array(next_states)\n",
    "                    self.q_values[state[X],state[Y],action] = np.sum(states_probability*(reward+self.discount*self.state_values[next_states[:,0], next_states[:,1]]))\n",
    "    \n",
    "                v = self.state_values[state[X],state[Y]]\n",
    "\n",
    "                self.state_values[state[X],state[Y]] = np.max(self.q_values[state[X],state[Y],:])\n",
    "\n",
    "                self.delta = np.max([self.delta, abs(v - self.state_values[state[X],state[Y]])])\n",
    "    \n",
    "    def get_optimal_policy(self, state):\n",
    "        return np.argmax(self.q_values[state[X],state[Y],:])\n",
    "    \n",
    "    def get_state_values(self):\n",
    "        return self.state_values\n",
    "    \n",
    "    def get_q_values(self):\n",
    "        return self.q_values"
   ]
  },
  {
   "cell_type": "code",
   "execution_count": 4,
   "id": "cd40f985",
   "metadata": {},
   "outputs": [],
   "source": [
    "class PolicyIteration():\n",
    "    def __init__(self, env, discount, theta, map_size):\n",
    "        self.env = env\n",
    "        self.discount = discount\n",
    "        self.theta = theta\n",
    "        self.map_size = map_size\n",
    "        self.delta = 0\n",
    "        self.state_values = np.zeros((self.map_size,self.map_size))\n",
    "        self.q_values = np.zeros((self.map_size,self.map_size,4))\n",
    "        self.optimal_policy = np.zeros((self.map_size,self.map_size))\n",
    "        self.policy_stable = False\n",
    "    \n",
    "    \n",
    "    def policy_evaluation(self):\n",
    "        self.delta = np.inf\n",
    "\n",
    "        while(self.delta > self.theta):\n",
    "\n",
    "            self.delta = 0\n",
    "\n",
    "            for state in itertools.product(range(self.map_size), range(self.map_size)):\n",
    "                if (state[X],state[Y]) == (self.map_size-1,self.map_size-1):\n",
    "                    continue\n",
    "\n",
    "                for action in ACTION_SPACE:\n",
    "                    next_states, states_probability, breaking_possibility, is_end = self.env.find_next_states(action=action, current_state=(state[X],state[Y]))\n",
    "                    reward = np.where(is_end, 99, ((1-breaking_possibility) * -1) + (breaking_possibility * -11))\n",
    "                    next_states = np.array(next_states)\n",
    "                    self.q_values[state[X],state[Y],action] = np.sum(states_probability*(reward+self.discount*self.state_values[next_states[:,0], next_states[:,1]]))\n",
    "\n",
    "                v = self.state_values[state[X],state[Y]]\n",
    "\n",
    "                self.state_values[state[X],state[Y]] = np.max(self.q_values[state[X],state[Y],:])\n",
    "\n",
    "                self.delta = np.max([self.delta, abs(v - self.state_values[state[X],state[Y]])])\n",
    "                \n",
    "    def policy_improvement(self):\n",
    "        self.policy_stable = True\n",
    "        old_policy = self.optimal_policy.copy()\n",
    "#         self.optimal_policy = self.get_state_values()\n",
    "        for state in itertools.product(range(self.map_size), range(self.map_size)):\n",
    "            self.optimal_policy[state[X],state[Y]] = self.get_optimal_policy([state[X],state[Y]])\n",
    "        if not (old_policy == self.optimal_policy).all():\n",
    "            self.policy_stable = False\n",
    "    \n",
    "    def policy_estimation(self):\n",
    "        while(not self.policy_stable):\n",
    "            self.policy_evaluation()\n",
    "            self.policy_improvement()\n",
    "    \n",
    "    def get_optimal_policy(self, state):\n",
    "        return np.argmax(self.q_values[state[X],state[Y],:])\n",
    "    \n",
    "    def get_state_values(self):\n",
    "        return self.state_values\n",
    "    \n",
    "    def get_q_values(self):\n",
    "        return self.q_values"
   ]
  },
  {
   "cell_type": "markdown",
   "id": "e1ed1706",
   "metadata": {},
   "source": [
    "<a name='2-1'></a>\n",
    "## Part 1"
   ]
  },
  {
   "cell_type": "code",
   "execution_count": 3,
   "id": "376207cb",
   "metadata": {
    "scrolled": false
   },
   "outputs": [
    {
     "name": "stdout",
     "output_type": "stream",
     "text": [
      "\n",
      "-------------------------------------------------------\n",
      "| \u001b[44m0.0000\u001b[0m | 1.0000 | 1.0000 | 1.0000 | 1.0000 | 1.0000 | \n",
      "-------------------------------------------------------\n",
      "| \u001b[43m0.0001\u001b[0m | \u001b[43m0.0001\u001b[0m | 1.0000 | 1.0000 | 1.0000 | 1.0000 | \n",
      "-------------------------------------------------------\n",
      "| 1.0000 | \u001b[43m0.0001\u001b[0m | 1.0000 | 1.0000 | 1.0000 | 1.0000 | \n",
      "-------------------------------------------------------\n",
      "| 1.0000 | \u001b[43m0.0001\u001b[0m | \u001b[43m0.0001\u001b[0m | \u001b[43m0.0001\u001b[0m | \u001b[43m0.0001\u001b[0m | \u001b[43m0.0001\u001b[0m | \n",
      "-------------------------------------------------------\n",
      "| 1.0000 | 1.0000 | 1.0000 | 1.0000 | 1.0000 | \u001b[43m0.0001\u001b[0m | \n",
      "-------------------------------------------------------\n",
      "| 1.0000 | 1.0000 | 1.0000 | 1.0000 | 1.0000 | \u001b[42m0.0000\u001b[0m | \n",
      "-------------------------------------------------------\n"
     ]
    }
   ],
   "source": [
    "from env import FrozenLake\n",
    "\n",
    "MAP_SIZE = 6\n",
    "\n",
    "environment = FrozenLake(studentNum=Sd_number)\n",
    "\n",
    "environment.render()"
   ]
  },
  {
   "cell_type": "markdown",
   "id": "9b320d10",
   "metadata": {},
   "source": [
    "<a name='2-1-1'></a>\n",
    "### Value Iteration"
   ]
  },
  {
   "cell_type": "code",
   "execution_count": 5,
   "id": "1ff397e4",
   "metadata": {},
   "outputs": [
    {
     "name": "stdout",
     "output_type": "stream",
     "text": [
      "Convergence time: 0.6083495616912842\n"
     ]
    }
   ],
   "source": [
    "value_iteration = ValueIteration(FrozenLake(studentNum=Sd_number), Discount, 1e-8, MAP_SIZE)\n",
    "\n",
    "start = time.time()\n",
    "value_iteration.value_estimation()\n",
    "end = time.time()\n",
    "\n",
    "print(\"Convergence time:\", end - start)"
   ]
  },
  {
   "cell_type": "code",
   "execution_count": 6,
   "id": "ba8b85c4",
   "metadata": {},
   "outputs": [
    {
     "name": "stdout",
     "output_type": "stream",
     "text": [
      "states value :\n",
      " \n",
      "------------------------------------------------------------\n",
      "| 26.1929 | 30.0812 | 17.3231 | 22.7638 | 29.6611 | 36.8419 | \n",
      "------------------------------------------------------------\n",
      "| 30.6258 | 35.6471 | 31.9859 | 38.4259 | 46.1634 | 54.3519 | \n",
      "------------------------------------------------------------\n",
      "| 35.9200 | 41.8198 | 48.6298 | 56.2760 | 64.9640 | 74.3257 | \n",
      "------------------------------------------------------------\n",
      "| 41.3085 | 48.5310 | 56.3703 | 65.1780 | 74.9210 | 85.6277 | \n",
      "------------------------------------------------------------\n",
      "| 25.6742 | 41.4664 | 48.9862 | 64.8993 | 85.4633 | 97.6371 | \n",
      "------------------------------------------------------------\n",
      "| 21.5512 | 37.0133 | 54.6250 | 74.5789 | 97.0272 | 0.0000 | \n",
      "------------------------------------------------------------\n"
     ]
    }
   ],
   "source": [
    "print(\"states value :\\n\", show_states_value_on_map(value_iteration.get_state_values(), MAP_SIZE))"
   ]
  },
  {
   "cell_type": "code",
   "execution_count": 7,
   "id": "f93b7c8f",
   "metadata": {
    "scrolled": false
   },
   "outputs": [
    {
     "name": "stdout",
     "output_type": "stream",
     "text": [
      "state-action value : \n",
      "\n",
      " [[[22.52333384 26.19285648 16.54290946 22.52333384]\n",
      "  [22.25406176 30.08123284  5.70989766 16.27363738]\n",
      "  [15.74603334 17.32309307  9.68720736  5.18229361]\n",
      "  [ 5.29065143 22.76381015 15.50649154  9.79556517]\n",
      "  [10.28617933 29.66106422 21.94287664 15.99710569]\n",
      "  [16.39790527 36.841947   22.34367621 22.34367621]]\n",
      "\n",
      " [[26.46810978 21.65264356 30.62575822 22.79858714]\n",
      "  [26.37839636 35.64707276 18.30550907 16.72844934]\n",
      "  [30.43530202 31.98589435 23.53712556  6.06396684]\n",
      "  [18.31372514 38.42594177 30.05272431 10.67783942]\n",
      "  [24.18993242 46.16342959 37.37665554 16.9326138 ]\n",
      "  [31.03361312 54.35193588 37.81369633 23.31542554]]\n",
      "\n",
      " [[21.83583513 26.29756297 35.91997776 26.65130135]\n",
      "  [22.1788024  41.81981185 32.70250939 31.15191706]\n",
      "  [36.58198018 48.62976881 39.35263313 19.2404165 ]\n",
      "  [33.37498722 56.27601106 46.89971561 24.92621844]\n",
      "  [40.32686655 64.96398184 55.27197185 31.95364909]\n",
      "  [48.01700414 74.32565515 55.76846965 39.23023009]]\n",
      "\n",
      " [[26.12925635 13.18402328 41.30853796 21.6675285 ]\n",
      "  [26.86080025 26.99152235 48.53100367 36.48321504]\n",
      "  [42.58655982 33.76434109 56.37028121 33.46925737]\n",
      "  [49.81803055 47.68095003 65.17801017 40.54089487]\n",
      "  [57.98862567 65.58572554 74.92098122 48.61233022]\n",
      "  [66.81879794 85.62771494 75.68397346 57.12678795]]\n",
      "\n",
      " [[12.59824335  9.18443095 25.6741985  25.54347641]\n",
      "  [13.3419002  22.73068093 32.64419615 41.46641488]\n",
      "  [27.4466688  38.34197575 46.8490696  48.98615013]\n",
      "  [34.6962261  55.88703138 64.89926609 57.30216621]\n",
      "  [49.15727442 75.75924461 85.46325156 66.65433456]\n",
      "  [67.20063685 97.63706456 86.47963401 76.53589253]]\n",
      "\n",
      " [[ 8.74864357  8.74864357 21.55123668 12.16245596]\n",
      "  [ 9.62823117 22.43082428 37.01330566 26.11799872]\n",
      "  [23.52067764 38.10315901 54.62499814 33.43419286]\n",
      "  [39.46984609 55.99168522 74.57891013 47.97693995]\n",
      "  [57.57858699 76.1658119  97.0272494  66.59082169]\n",
      "  [ 0.          0.          0.          0.        ]]]\n"
     ]
    }
   ],
   "source": [
    "print(\"state-action value : \\n\\n\", value_iteration.get_q_values())"
   ]
  },
  {
   "cell_type": "code",
   "execution_count": 8,
   "id": "739ccbf5",
   "metadata": {
    "scrolled": true
   },
   "outputs": [
    {
     "name": "stdout",
     "output_type": "stream",
     "text": [
      "optimal policy :\n",
      " \n",
      "-------------------------\n",
      "| ↓ | ↓ | ↓ | ↓ | ↓ | ↓ | \n",
      "-------------------------\n",
      "| → | ↓ | ↓ | ↓ | ↓ | ↓ | \n",
      "-------------------------\n",
      "| → | ↓ | ↓ | ↓ | ↓ | ↓ | \n",
      "-------------------------\n",
      "| → | → | → | → | → | ↓ | \n",
      "-------------------------\n",
      "| → | ↑ | ↑ | → | → | ↓ | \n",
      "-------------------------\n",
      "| → | → | → | → | → | * | \n",
      "-------------------------\n"
     ]
    }
   ],
   "source": [
    "print(\"optimal policy :\\n\", show_actions_on_map(value_iteration, MAP_SIZE))"
   ]
  },
  {
   "cell_type": "markdown",
   "id": "2592fc68",
   "metadata": {},
   "source": [
    "<a name='2-1-2'></a>\n",
    "### Policy Iteration"
   ]
  },
  {
   "cell_type": "code",
   "execution_count": 10,
   "id": "c05f5b69",
   "metadata": {
    "scrolled": true
   },
   "outputs": [
    {
     "name": "stdout",
     "output_type": "stream",
     "text": [
      "Convergence time: 0.5701236724853516\n"
     ]
    }
   ],
   "source": [
    "policy_iteration = PolicyIteration(FrozenLake(studentNum=Sd_number), Discount, 1e-8, MAP_SIZE)\n",
    "\n",
    "start = time.time()\n",
    "policy_iteration.policy_estimation()\n",
    "end = time.time()\n",
    "\n",
    "print(\"Convergence time:\", end - start)"
   ]
  },
  {
   "cell_type": "code",
   "execution_count": 11,
   "id": "d346a453",
   "metadata": {},
   "outputs": [
    {
     "name": "stdout",
     "output_type": "stream",
     "text": [
      "states value :\n",
      " \n",
      "------------------------------------------------------------\n",
      "| 26.1929 | 30.0812 | 17.3231 | 22.7638 | 29.6611 | 36.8419 | \n",
      "------------------------------------------------------------\n",
      "| 30.6258 | 35.6471 | 31.9859 | 38.4259 | 46.1634 | 54.3519 | \n",
      "------------------------------------------------------------\n",
      "| 35.9200 | 41.8198 | 48.6298 | 56.2760 | 64.9640 | 74.3257 | \n",
      "------------------------------------------------------------\n",
      "| 41.3085 | 48.5310 | 56.3703 | 65.1780 | 74.9210 | 85.6277 | \n",
      "------------------------------------------------------------\n",
      "| 25.6742 | 41.4664 | 48.9862 | 64.8993 | 85.4633 | 97.6371 | \n",
      "------------------------------------------------------------\n",
      "| 21.5512 | 37.0133 | 54.6250 | 74.5789 | 97.0272 | 0.0000 | \n",
      "------------------------------------------------------------\n"
     ]
    }
   ],
   "source": [
    "print(\"states value :\\n\", show_states_value_on_map(policy_iteration.get_state_values(), MAP_SIZE))"
   ]
  },
  {
   "cell_type": "code",
   "execution_count": 12,
   "id": "35cf13be",
   "metadata": {},
   "outputs": [
    {
     "name": "stdout",
     "output_type": "stream",
     "text": [
      "state-action value : \n",
      "\n",
      " [[[22.52333384 26.19285648 16.54290946 22.52333384]\n",
      "  [22.25406176 30.08123284  5.70989766 16.27363738]\n",
      "  [15.74603334 17.32309307  9.68720736  5.18229361]\n",
      "  [ 5.29065143 22.76381015 15.50649154  9.79556517]\n",
      "  [10.28617933 29.66106422 21.94287664 15.99710569]\n",
      "  [16.39790527 36.841947   22.34367621 22.34367621]]\n",
      "\n",
      " [[26.46810978 21.65264356 30.62575822 22.79858714]\n",
      "  [26.37839636 35.64707276 18.30550907 16.72844934]\n",
      "  [30.43530202 31.98589435 23.53712556  6.06396684]\n",
      "  [18.31372514 38.42594177 30.05272431 10.67783942]\n",
      "  [24.18993242 46.16342959 37.37665554 16.9326138 ]\n",
      "  [31.03361312 54.35193588 37.81369633 23.31542554]]\n",
      "\n",
      " [[21.83583513 26.29756297 35.91997776 26.65130135]\n",
      "  [22.1788024  41.81981185 32.70250939 31.15191706]\n",
      "  [36.58198018 48.62976881 39.35263313 19.2404165 ]\n",
      "  [33.37498722 56.27601106 46.89971561 24.92621844]\n",
      "  [40.32686655 64.96398184 55.27197185 31.95364909]\n",
      "  [48.01700414 74.32565515 55.76846965 39.23023009]]\n",
      "\n",
      " [[26.12925635 13.18402328 41.30853796 21.6675285 ]\n",
      "  [26.86080025 26.99152235 48.53100367 36.48321504]\n",
      "  [42.58655982 33.76434109 56.37028121 33.46925737]\n",
      "  [49.81803055 47.68095003 65.17801017 40.54089487]\n",
      "  [57.98862567 65.58572554 74.92098122 48.61233022]\n",
      "  [66.81879794 85.62771494 75.68397346 57.12678795]]\n",
      "\n",
      " [[12.59824335  9.18443095 25.6741985  25.54347641]\n",
      "  [13.3419002  22.73068093 32.64419615 41.46641488]\n",
      "  [27.4466688  38.34197575 46.8490696  48.98615013]\n",
      "  [34.6962261  55.88703138 64.89926609 57.30216621]\n",
      "  [49.15727442 75.75924461 85.46325156 66.65433456]\n",
      "  [67.20063685 97.63706456 86.47963401 76.53589253]]\n",
      "\n",
      " [[ 8.74864357  8.74864357 21.55123668 12.16245596]\n",
      "  [ 9.62823117 22.43082428 37.01330566 26.11799872]\n",
      "  [23.52067764 38.10315901 54.62499814 33.43419286]\n",
      "  [39.46984609 55.99168522 74.57891013 47.97693995]\n",
      "  [57.57858699 76.1658119  97.0272494  66.59082169]\n",
      "  [ 0.          0.          0.          0.        ]]]\n"
     ]
    }
   ],
   "source": [
    "print(\"state-action value : \\n\\n\", policy_iteration.get_q_values())"
   ]
  },
  {
   "cell_type": "code",
   "execution_count": 13,
   "id": "4c9949f6",
   "metadata": {},
   "outputs": [
    {
     "name": "stdout",
     "output_type": "stream",
     "text": [
      "optimal policy :\n",
      " \n",
      "-------------------------\n",
      "| ↓ | ↓ | ↓ | ↓ | ↓ | ↓ | \n",
      "-------------------------\n",
      "| → | ↓ | ↓ | ↓ | ↓ | ↓ | \n",
      "-------------------------\n",
      "| → | ↓ | ↓ | ↓ | ↓ | ↓ | \n",
      "-------------------------\n",
      "| → | → | → | → | → | ↓ | \n",
      "-------------------------\n",
      "| → | ↑ | ↑ | → | → | ↓ | \n",
      "-------------------------\n",
      "| → | → | → | → | → | * | \n",
      "-------------------------\n"
     ]
    }
   ],
   "source": [
    "print(\"optimal policy :\\n\", show_actions_on_map(policy_iteration, MAP_SIZE))"
   ]
  },
  {
   "cell_type": "markdown",
   "id": "1f4fa617",
   "metadata": {},
   "source": [
    "<a name='2-2'></a>\n",
    "## Part 2"
   ]
  },
  {
   "cell_type": "code",
   "execution_count": 2,
   "id": "a4b486f4",
   "metadata": {},
   "outputs": [
    {
     "name": "stdout",
     "output_type": "stream",
     "text": [
      "\n",
      "-------------------------------------------------------\n",
      "| \u001b[44m0.0000\u001b[0m | 0.8444 | 0.3343 | 0.3058 | 0.8208 | 0.4955 | \n",
      "-------------------------------------------------------\n",
      "| \u001b[43m0.0010\u001b[0m | \u001b[43m0.0010\u001b[0m | 0.7536 | 0.4510 | 0.8006 | 0.3135 | \n",
      "-------------------------------------------------------\n",
      "| 0.3768 | \u001b[43m0.0010\u001b[0m | 0.8268 | 0.8268 | 0.8908 | 0.5312 | \n",
      "-------------------------------------------------------\n",
      "| 0.6320 | \u001b[43m0.0010\u001b[0m | \u001b[43m0.0010\u001b[0m | \u001b[43m0.0010\u001b[0m | \u001b[43m0.0010\u001b[0m | \u001b[43m0.0010\u001b[0m | \n",
      "-------------------------------------------------------\n",
      "| 0.9490 | 0.8463 | 0.6388 | 0.1015 | 0.2757 | \u001b[43m0.0010\u001b[0m | \n",
      "-------------------------------------------------------\n",
      "| 0.6810 | 0.1309 | 0.2624 | 0.1043 | 0.1053 | \u001b[42m0.0000\u001b[0m | \n",
      "-------------------------------------------------------\n"
     ]
    }
   ],
   "source": [
    "from env import FrozenLake\n",
    "\n",
    "MAP_SIZE = 6\n",
    "\n",
    "environment = FrozenLake(studentNum=Sd_number)\n",
    "\n",
    "environment.render()"
   ]
  },
  {
   "cell_type": "markdown",
   "id": "9b309740",
   "metadata": {},
   "source": [
    "<a name='2-2-1'></a>\n",
    "### Value Iteration"
   ]
  },
  {
   "cell_type": "code",
   "execution_count": 7,
   "id": "ca6a2ecf",
   "metadata": {},
   "outputs": [
    {
     "name": "stdout",
     "output_type": "stream",
     "text": [
      "Convergence time: 2.063612461090088\n"
     ]
    }
   ],
   "source": [
    "value_iteration = ValueIteration(FrozenLake(studentNum=Sd_number), Discount, 1e-8, MAP_SIZE)\n",
    "\n",
    "start = time.time()\n",
    "value_iteration.value_estimation()\n",
    "end = time.time()\n",
    "\n",
    "print(\"Convergence time:\", end - start)"
   ]
  },
  {
   "cell_type": "code",
   "execution_count": 8,
   "id": "988cae5f",
   "metadata": {},
   "outputs": [
    {
     "name": "stdout",
     "output_type": "stream",
     "text": [
      "states value :\n",
      " \n",
      "------------------------------------------------------------\n",
      "| 4.1375 | 5.4381 | 0.0744 | 5.8946 | 11.2824 | 22.1840 | \n",
      "------------------------------------------------------------\n",
      "| 7.5472 | 10.7228 | 10.4150 | 15.8092 | 23.9532 | 35.2093 | \n",
      "------------------------------------------------------------\n",
      "| 12.5000 | 17.8140 | 24.7531 | 33.0679 | 43.1218 | 54.3110 | \n",
      "------------------------------------------------------------\n",
      "| 16.5526 | 24.9331 | 34.6425 | 45.5745 | 57.5673 | 71.6122 | \n",
      "------------------------------------------------------------\n",
      "| 13.2761 | 27.7960 | 43.6927 | 57.2155 | 73.8153 | 89.9020 | \n",
      "------------------------------------------------------------\n",
      "| 25.1811 | 37.5886 | 53.8614 | 70.5729 | 89.5710 | 0.0000 | \n",
      "------------------------------------------------------------\n"
     ]
    }
   ],
   "source": [
    "print(\"states value :\\n\", show_states_value_on_map(value_iteration.get_state_values(), MAP_SIZE))"
   ]
  },
  {
   "cell_type": "code",
   "execution_count": 9,
   "id": "36895e49",
   "metadata": {},
   "outputs": [
    {
     "name": "stdout",
     "output_type": "stream",
     "text": [
      "state-action value : \n",
      "\n",
      " [[[ 2.30220940e+00  4.13745319e+00 -2.06202519e+00  2.30220940e+00]\n",
      "  [ 1.88803968e+00  5.43814149e+00 -2.31183670e+00 -2.47619491e+00]\n",
      "  [-3.40413257e+00 -1.71691181e-01  7.43710490e-02 -3.23977437e+00]\n",
      "  [-1.90202090e+00  5.89463646e+00  1.23156755e+00  1.41212452e+00]\n",
      "  [ 3.62422918e+00  1.04070850e+01  1.12823679e+01  3.44367221e+00]\n",
      "  [ 6.22010270e+00  2.21839597e+01  1.40587983e+01  1.40587983e+01]]\n",
      "\n",
      " [[ 5.83230588e+00  6.25184185e+00  7.54716391e+00  3.99706209e+00]\n",
      "  [ 5.17871381e+00  1.07228269e+01  2.21167682e+00 -1.02076457e+00]\n",
      "  [ 7.79357191e+00  1.04150371e+01  7.84025107e+00  4.35937201e-02]\n",
      "  [ 4.01550194e+00  1.58092180e+01  1.10444200e+01  4.26156417e+00]\n",
      "  [ 1.18429922e+01  2.39531690e+01  2.31437803e+01  7.17992325e+00]\n",
      "  [ 1.71997876e+01  3.52092904e+01  2.62002319e+01  1.80750705e+01]]\n",
      "\n",
      " [[ 7.37545264e+00  8.03308254e+00  1.25000298e+01  6.95591667e+00]\n",
      "  [ 8.84517058e+00  1.78140400e+01  1.27619578e+01  1.01404926e+01]\n",
      "  [ 1.56657639e+01  2.47531152e+01  1.89483299e+01  7.15461381e+00]\n",
      "  [ 1.68694934e+01  3.30679323e+01  2.64048842e+01  1.42947074e+01]\n",
      "  [ 2.49375971e+01  4.31217967e+01  3.81823019e+01  2.01727991e+01]\n",
      "  [ 3.35875870e+01  5.43110027e+01  4.17872569e+01  3.27781983e+01]]\n",
      "\n",
      " [[ 8.24136218e+00  4.56958184e+00  1.65526017e+01  7.58373228e+00]\n",
      "  [ 1.13788013e+01  1.61640197e+01  2.49330999e+01  1.58457486e+01]\n",
      "  [ 2.34961118e+01  2.97997687e+01  3.46424684e+01  1.84440295e+01]\n",
      "  [ 3.31950866e+01  4.47816483e+01  4.55745010e+01  2.73903013e+01]\n",
      "  [ 4.35069421e+01  5.71089694e+01  5.75673098e+01  3.68438940e+01]\n",
      "  [ 5.41514925e+01  7.16122189e+01  6.17357435e+01  4.92119977e+01]]\n",
      "\n",
      " [[ 4.81905135e+00  1.28560400e+01  1.32760501e+01  8.49083169e+00]\n",
      "  [ 9.50932917e+00  2.75470671e+01  2.77960060e+01  2.14923491e+01]\n",
      "  [ 2.33370278e+01  4.09159450e+01  4.36926696e+01  3.21061079e+01]\n",
      "  [ 3.87707551e+01  5.64925503e+01  5.72154821e+01  4.36134547e+01]\n",
      "  [ 5.55617449e+01  7.30108371e+01  7.38153241e+01  5.63545976e+01]\n",
      "  [ 6.81082462e+01  8.99019883e+01  7.84430620e+01  6.85665865e+01]]\n",
      "\n",
      " [[ 1.51803646e+01  1.51803646e+01  2.51811139e+01  7.14337595e+00]\n",
      "  [ 1.95896856e+01  2.95904349e+01  3.75886129e+01  2.00096957e+01]\n",
      "  [ 3.58906285e+01  4.38888064e+01  5.38613625e+01  3.61395673e+01]\n",
      "  [ 5.03471328e+01  6.03196889e+01  7.05729496e+01  5.31238574e+01]\n",
      "  [ 6.70543545e+01  7.73076152e+01  8.95710284e+01  6.77772863e+01]\n",
      "  [ 0.00000000e+00  0.00000000e+00  0.00000000e+00  0.00000000e+00]]]\n"
     ]
    }
   ],
   "source": [
    "print(\"state-action value : \\n\\n\", value_iteration.get_q_values())"
   ]
  },
  {
   "cell_type": "code",
   "execution_count": 10,
   "id": "1abcfacb",
   "metadata": {},
   "outputs": [
    {
     "name": "stdout",
     "output_type": "stream",
     "text": [
      "optimal policy :\n",
      " \n",
      "-------------------------\n",
      "| ↓ | ↓ | → | ↓ | → | ↓ | \n",
      "-------------------------\n",
      "| → | ↓ | ↓ | ↓ | ↓ | ↓ | \n",
      "-------------------------\n",
      "| → | ↓ | ↓ | ↓ | ↓ | ↓ | \n",
      "-------------------------\n",
      "| → | → | → | → | → | ↓ | \n",
      "-------------------------\n",
      "| → | → | → | → | → | ↓ | \n",
      "-------------------------\n",
      "| → | → | → | → | → | * | \n",
      "-------------------------\n"
     ]
    }
   ],
   "source": [
    "print(\"optimal policy :\\n\", show_actions_on_map(value_iteration, MAP_SIZE))"
   ]
  },
  {
   "cell_type": "markdown",
   "id": "e48493ea",
   "metadata": {},
   "source": [
    "<a name='2-2-2'></a>\n",
    "### Policy Iteration"
   ]
  },
  {
   "cell_type": "code",
   "execution_count": 11,
   "id": "f955ffac",
   "metadata": {},
   "outputs": [
    {
     "name": "stdout",
     "output_type": "stream",
     "text": [
      "Convergence time: 1.35288405418396\n"
     ]
    }
   ],
   "source": [
    "from env import FrozenLake\n",
    "\n",
    "policy_iteration = PolicyIteration(FrozenLake(studentNum=Sd_number), Discount, 1e-8, MAP_SIZE)\n",
    "\n",
    "start = time.time()\n",
    "policy_iteration.policy_estimation()\n",
    "end = time.time()\n",
    "\n",
    "print(\"Convergence time:\", end - start)"
   ]
  },
  {
   "cell_type": "code",
   "execution_count": 12,
   "id": "4b75fa68",
   "metadata": {},
   "outputs": [
    {
     "name": "stdout",
     "output_type": "stream",
     "text": [
      "states value :\n",
      " \n",
      "------------------------------------------------------------\n",
      "| 4.1375 | 5.4381 | 0.0744 | 5.8946 | 11.2824 | 22.1840 | \n",
      "------------------------------------------------------------\n",
      "| 7.5472 | 10.7228 | 10.4150 | 15.8092 | 23.9532 | 35.2093 | \n",
      "------------------------------------------------------------\n",
      "| 12.5000 | 17.8140 | 24.7531 | 33.0679 | 43.1218 | 54.3110 | \n",
      "------------------------------------------------------------\n",
      "| 16.5526 | 24.9331 | 34.6425 | 45.5745 | 57.5673 | 71.6122 | \n",
      "------------------------------------------------------------\n",
      "| 13.2761 | 27.7960 | 43.6927 | 57.2155 | 73.8153 | 89.9020 | \n",
      "------------------------------------------------------------\n",
      "| 25.1811 | 37.5886 | 53.8614 | 70.5729 | 89.5710 | 0.0000 | \n",
      "------------------------------------------------------------\n"
     ]
    }
   ],
   "source": [
    "print(\"states value :\\n\", show_states_value_on_map(policy_iteration.get_state_values(), MAP_SIZE))"
   ]
  },
  {
   "cell_type": "code",
   "execution_count": 13,
   "id": "f0d7e02a",
   "metadata": {},
   "outputs": [
    {
     "name": "stdout",
     "output_type": "stream",
     "text": [
      "state-action value : \n",
      "\n",
      " [[[ 2.30220940e+00  4.13745319e+00 -2.06202519e+00  2.30220940e+00]\n",
      "  [ 1.88803968e+00  5.43814149e+00 -2.31183670e+00 -2.47619491e+00]\n",
      "  [-3.40413257e+00 -1.71691181e-01  7.43710490e-02 -3.23977437e+00]\n",
      "  [-1.90202090e+00  5.89463646e+00  1.23156755e+00  1.41212452e+00]\n",
      "  [ 3.62422918e+00  1.04070850e+01  1.12823679e+01  3.44367221e+00]\n",
      "  [ 6.22010270e+00  2.21839597e+01  1.40587983e+01  1.40587983e+01]]\n",
      "\n",
      " [[ 5.83230588e+00  6.25184185e+00  7.54716391e+00  3.99706209e+00]\n",
      "  [ 5.17871381e+00  1.07228269e+01  2.21167682e+00 -1.02076457e+00]\n",
      "  [ 7.79357191e+00  1.04150371e+01  7.84025107e+00  4.35937201e-02]\n",
      "  [ 4.01550194e+00  1.58092180e+01  1.10444200e+01  4.26156417e+00]\n",
      "  [ 1.18429922e+01  2.39531690e+01  2.31437803e+01  7.17992325e+00]\n",
      "  [ 1.71997876e+01  3.52092904e+01  2.62002319e+01  1.80750705e+01]]\n",
      "\n",
      " [[ 7.37545264e+00  8.03308254e+00  1.25000298e+01  6.95591667e+00]\n",
      "  [ 8.84517058e+00  1.78140400e+01  1.27619578e+01  1.01404926e+01]\n",
      "  [ 1.56657639e+01  2.47531152e+01  1.89483299e+01  7.15461381e+00]\n",
      "  [ 1.68694934e+01  3.30679323e+01  2.64048842e+01  1.42947074e+01]\n",
      "  [ 2.49375971e+01  4.31217967e+01  3.81823019e+01  2.01727991e+01]\n",
      "  [ 3.35875870e+01  5.43110027e+01  4.17872569e+01  3.27781983e+01]]\n",
      "\n",
      " [[ 8.24136218e+00  4.56958184e+00  1.65526017e+01  7.58373228e+00]\n",
      "  [ 1.13788013e+01  1.61640197e+01  2.49330999e+01  1.58457486e+01]\n",
      "  [ 2.34961118e+01  2.97997687e+01  3.46424684e+01  1.84440295e+01]\n",
      "  [ 3.31950866e+01  4.47816483e+01  4.55745010e+01  2.73903013e+01]\n",
      "  [ 4.35069421e+01  5.71089694e+01  5.75673098e+01  3.68438940e+01]\n",
      "  [ 5.41514925e+01  7.16122189e+01  6.17357435e+01  4.92119977e+01]]\n",
      "\n",
      " [[ 4.81905135e+00  1.28560400e+01  1.32760501e+01  8.49083169e+00]\n",
      "  [ 9.50932917e+00  2.75470671e+01  2.77960060e+01  2.14923491e+01]\n",
      "  [ 2.33370278e+01  4.09159450e+01  4.36926696e+01  3.21061079e+01]\n",
      "  [ 3.87707551e+01  5.64925503e+01  5.72154821e+01  4.36134547e+01]\n",
      "  [ 5.55617449e+01  7.30108371e+01  7.38153241e+01  5.63545976e+01]\n",
      "  [ 6.81082462e+01  8.99019883e+01  7.84430620e+01  6.85665865e+01]]\n",
      "\n",
      " [[ 1.51803646e+01  1.51803646e+01  2.51811139e+01  7.14337595e+00]\n",
      "  [ 1.95896856e+01  2.95904349e+01  3.75886129e+01  2.00096957e+01]\n",
      "  [ 3.58906285e+01  4.38888064e+01  5.38613625e+01  3.61395673e+01]\n",
      "  [ 5.03471328e+01  6.03196889e+01  7.05729496e+01  5.31238574e+01]\n",
      "  [ 6.70543545e+01  7.73076152e+01  8.95710284e+01  6.77772863e+01]\n",
      "  [ 0.00000000e+00  0.00000000e+00  0.00000000e+00  0.00000000e+00]]]\n"
     ]
    }
   ],
   "source": [
    "print(\"state-action value : \\n\\n\", policy_iteration.get_q_values())"
   ]
  },
  {
   "cell_type": "code",
   "execution_count": 14,
   "id": "72b992d8",
   "metadata": {},
   "outputs": [
    {
     "name": "stdout",
     "output_type": "stream",
     "text": [
      "optimal policy :\n",
      " \n",
      "-------------------------\n",
      "| ↓ | ↓ | → | ↓ | → | ↓ | \n",
      "-------------------------\n",
      "| → | ↓ | ↓ | ↓ | ↓ | ↓ | \n",
      "-------------------------\n",
      "| → | ↓ | ↓ | ↓ | ↓ | ↓ | \n",
      "-------------------------\n",
      "| → | → | → | → | → | ↓ | \n",
      "-------------------------\n",
      "| → | → | → | → | → | ↓ | \n",
      "-------------------------\n",
      "| → | → | → | → | → | * | \n",
      "-------------------------\n"
     ]
    }
   ],
   "source": [
    "print(\"optimal policy :\\n\", show_actions_on_map(policy_iteration, MAP_SIZE))"
   ]
  },
  {
   "cell_type": "markdown",
   "id": "00e566e7",
   "metadata": {},
   "source": [
    "<a name='2-3'></a>\n",
    "## Part 3"
   ]
  },
  {
   "cell_type": "code",
   "execution_count": 37,
   "id": "b3c30b51",
   "metadata": {},
   "outputs": [
    {
     "name": "stdout",
     "output_type": "stream",
     "text": [
      "\n",
      "-------------------------------------------------------------------------------------------------------------------------------------------\n",
      "| \u001b[44m0.0000\u001b[0m | 0.4520 | 0.5950 | 0.6061 | 0.7932 | 0.7197 | 0.2585 | 0.6634 | 0.5232 | 0.0378 | 0.7218 | 0.9371 | 0.6105 | 0.7366 | 0.6932 | \n",
      "-------------------------------------------------------------------------------------------------------------------------------------------\n",
      "| \u001b[43m0.0010\u001b[0m | \u001b[43m0.0010\u001b[0m | 0.9939 | 0.9846 | 0.0024 | 0.9573 | 0.6653 | 0.9827 | 0.4317 | 0.7456 | 0.0247 | 0.3842 | 0.2294 | 0.6634 | 0.4343 | \n",
      "-------------------------------------------------------------------------------------------------------------------------------------------\n",
      "| 0.8383 | \u001b[43m0.0010\u001b[0m | \u001b[43m0.0010\u001b[0m | \u001b[43m0.0010\u001b[0m | \u001b[43m0.0010\u001b[0m | 0.4788 | 0.3056 | 0.9012 | 0.6050 | 0.6653 | 0.6583 | 0.2466 | 0.9152 | 0.7013 | 0.4871 | \n",
      "-------------------------------------------------------------------------------------------------------------------------------------------\n",
      "| 0.1692 | 0.5775 | 0.1076 | 0.1591 | \u001b[43m0.0010\u001b[0m | 0.3518 | 0.6244 | 0.7026 | 0.3913 | 0.8066 | 0.0295 | 0.9734 | 0.8439 | 0.5912 | 0.0005 | \n",
      "-------------------------------------------------------------------------------------------------------------------------------------------\n",
      "| 0.1440 | 0.6107 | 0.1992 | 0.9467 | \u001b[43m0.0010\u001b[0m | 0.4791 | 0.8437 | 0.0493 | 0.9428 | 0.5429 | 0.7290 | 0.0878 | 0.0083 | 0.9437 | 0.2499 | \n",
      "-------------------------------------------------------------------------------------------------------------------------------------------\n",
      "| 0.2712 | 0.1510 | 0.8071 | 0.3817 | \u001b[43m0.0010\u001b[0m | \u001b[43m0.0010\u001b[0m | 0.2831 | 0.6867 | 0.7443 | 0.9140 | 0.8392 | 0.2167 | 0.7163 | 0.0985 | 0.6631 | \n",
      "-------------------------------------------------------------------------------------------------------------------------------------------\n",
      "| 0.0936 | 0.1786 | 0.0865 | 0.9699 | 0.8448 | \u001b[43m0.0010\u001b[0m | \u001b[43m0.0010\u001b[0m | \u001b[43m0.0010\u001b[0m | \u001b[43m0.0010\u001b[0m | \u001b[43m0.0010\u001b[0m | \u001b[43m0.0010\u001b[0m | \u001b[43m0.0010\u001b[0m | 0.2267 | 0.5241 | 0.2428 | \n",
      "-------------------------------------------------------------------------------------------------------------------------------------------\n",
      "| 0.1761 | 0.8059 | 0.9905 | 0.0121 | 0.0008 | 0.5723 | 0.9803 | 0.3645 | 0.6211 | 0.2615 | 0.9099 | \u001b[43m0.0010\u001b[0m | 0.9671 | 0.1006 | 0.1122 | \n",
      "-------------------------------------------------------------------------------------------------------------------------------------------\n",
      "| 0.0488 | 0.6707 | 0.0755 | 0.8038 | 0.3957 | 0.7134 | 0.1600 | 0.2228 | 0.0079 | 0.1332 | 0.9666 | \u001b[43m0.0010\u001b[0m | 0.6056 | 0.8237 | 0.1465 | \n",
      "-------------------------------------------------------------------------------------------------------------------------------------------\n",
      "| 0.7942 | 0.2243 | 0.1573 | 0.2286 | 0.4545 | 0.2505 | 0.6105 | 0.7919 | 0.2427 | 0.7240 | 0.3716 | \u001b[43m0.0010\u001b[0m | 0.1378 | 0.4928 | 0.4327 | \n",
      "-------------------------------------------------------------------------------------------------------------------------------------------\n",
      "| 0.4227 | 0.2723 | 0.2890 | 0.5268 | 0.6244 | 0.8631 | 0.7457 | 0.3508 | 0.9613 | 0.1801 | 0.6988 | \u001b[43m0.0010\u001b[0m | 0.0829 | 0.5639 | 0.4337 | \n",
      "-------------------------------------------------------------------------------------------------------------------------------------------\n",
      "| 0.8263 | 0.3513 | 0.6711 | 0.9126 | 0.2859 | 0.9794 | 0.1129 | 0.4107 | 0.1958 | 0.1167 | 0.6121 | \u001b[43m0.0010\u001b[0m | \u001b[43m0.0010\u001b[0m | \u001b[43m0.0010\u001b[0m | \u001b[43m0.0010\u001b[0m | \n",
      "-------------------------------------------------------------------------------------------------------------------------------------------\n",
      "| 0.2046 | 0.8016 | 0.2783 | 0.9527 | 0.9989 | 0.4543 | 0.7732 | 0.6200 | 0.6368 | 0.1192 | 0.1372 | 0.9705 | 0.2537 | 0.1759 | \u001b[43m0.0010\u001b[0m | \n",
      "-------------------------------------------------------------------------------------------------------------------------------------------\n",
      "| 0.0098 | 0.1900 | 0.8140 | 0.4966 | 0.7114 | 0.8010 | 0.7622 | 0.2487 | 0.3123 | 0.3603 | 0.3399 | 0.6617 | 0.7923 | 0.1449 | \u001b[43m0.0010\u001b[0m | \n",
      "-------------------------------------------------------------------------------------------------------------------------------------------\n",
      "| 0.0460 | 0.0803 | 0.6307 | 0.7311 | 0.0880 | 0.4431 | 0.5792 | 0.7494 | 0.0239 | 0.3370 | 0.1317 | 0.4027 | 0.0683 | 0.5118 | \u001b[42m0.0000\u001b[0m | \n",
      "-------------------------------------------------------------------------------------------------------------------------------------------\n"
     ]
    }
   ],
   "source": [
    "from env import FrozenLake\n",
    "\n",
    "MAP_SIZE = 15\n",
    "\n",
    "environment = FrozenLake(studentNum=Sd_number)\n",
    "\n",
    "environment.render()"
   ]
  },
  {
   "cell_type": "markdown",
   "id": "4139636a",
   "metadata": {},
   "source": [
    "<a name='2-3-1'></a>\n",
    "### A"
   ]
  },
  {
   "cell_type": "code",
   "execution_count": 20,
   "id": "4e78531c",
   "metadata": {},
   "outputs": [
    {
     "name": "stdout",
     "output_type": "stream",
     "text": [
      "Convergence time: 50.2479248046875\n"
     ]
    }
   ],
   "source": [
    "value_iteration = ValueIteration(FrozenLake(studentNum=Sd_number), Discount, 1e-8, MAP_SIZE)\n",
    "\n",
    "start = time.time()\n",
    "value_iteration.value_estimation()\n",
    "end = time.time()\n",
    "\n",
    "print(\"Convergence time:\", end - start)"
   ]
  },
  {
   "cell_type": "code",
   "execution_count": 21,
   "id": "7bb3505e",
   "metadata": {},
   "outputs": [
    {
     "name": "stdout",
     "output_type": "stream",
     "text": [
      "states value :\n",
      " \n",
      "------------------------------------------------------------------------------------------------------------------------------------------------------\n",
      "| -16.3540 | -17.7709 | -24.1914 | -29.6072 | -24.8326 | -32.5849 | -36.9063 | -37.5100 | -33.1643 | -32.6295 | -32.5476 | -34.9645 | -36.2839 | -37.5653 | -33.0312 | \n",
      "------------------------------------------------------------------------------------------------------------------------------------------------------\n",
      "| -16.9637 | -18.2584 | -19.9409 | -21.3113 | -22.0070 | -24.4265 | -31.7104 | -37.2473 | -37.3787 | -32.2620 | -32.9630 | -31.2130 | -34.2867 | -32.1619 | -27.8441 | \n",
      "------------------------------------------------------------------------------------------------------------------------------------------------------\n",
      "| -18.3380 | -19.1476 | -19.5022 | -19.4632 | -18.9106 | -21.0530 | -27.7783 | -31.9602 | -35.9328 | -33.2016 | -26.7636 | -28.7244 | -28.7113 | -27.1813 | -21.0643 | \n",
      "------------------------------------------------------------------------------------------------------------------------------------------------------\n",
      "| -25.1305 | -20.1713 | -19.8138 | -19.1633 | -18.7210 | -20.2135 | -24.9081 | -27.1550 | -33.2810 | -27.0823 | -25.5242 | -17.6998 | -19.8565 | -20.5897 | -18.3966 | \n",
      "------------------------------------------------------------------------------------------------------------------------------------------------------\n",
      "| -25.7372 | -24.0978 | -22.7171 | -19.6867 | -19.3843 | -18.8152 | -21.2813 | -25.0468 | -24.7716 | -24.5829 | -16.7355 | -13.1679 | -16.3311 | -14.1533 | -14.5460 | \n",
      "------------------------------------------------------------------------------------------------------------------------------------------------------\n",
      "| -24.5528 | -26.5279 | -24.1776 | -21.7600 | -18.7899 | -17.6709 | -17.3925 | -16.1305 | -16.0574 | -13.5455 | -10.0427 | -6.9387 | -9.5121 | -11.0832 | -5.5101 | \n",
      "------------------------------------------------------------------------------------------------------------------------------------------------------\n",
      "| -24.4722 | -25.4511 | -27.8495 | -24.9319 | -19.1080 | -17.3823 | -15.7091 | -13.9398 | -12.0740 | -9.2866 | -6.0734 | -2.1323 | -5.5714 | -2.3269 | 1.5930 | \n",
      "------------------------------------------------------------------------------------------------------------------------------------------------------\n",
      "| -25.2545 | -27.1202 | -26.4191 | -26.4599 | -24.9268 | -19.4491 | -16.9534 | -15.6486 | -12.7805 | -10.7915 | -2.5910 | 1.5739 | 0.5774 | 2.0646 | 8.5240 | \n",
      "------------------------------------------------------------------------------------------------------------------------------------------------------\n",
      "| -27.0781 | -27.4332 | -30.5524 | -26.2717 | -25.7135 | -22.5273 | -19.9348 | -15.1024 | -12.8161 | -9.8470 | 1.9040 | 7.6700 | 10.0300 | 10.5788 | 15.7279 | \n",
      "------------------------------------------------------------------------------------------------------------------------------------------------------\n",
      "| -27.9488 | -30.4053 | -29.8020 | -30.5969 | -29.3370 | -28.5031 | -22.2553 | -16.1595 | -12.0464 | -1.8012 | 6.8113 | 14.3405 | 19.1943 | 21.2339 | 28.1028 | \n",
      "------------------------------------------------------------------------------------------------------------------------------------------------------\n",
      "| -31.7246 | -31.1940 | -31.0397 | -32.5639 | -32.7246 | -27.8904 | -19.6516 | -14.7273 | -5.2784 | 0.3916 | 12.9334 | 20.3605 | 28.2056 | 35.5032 | 43.4208 | \n",
      "------------------------------------------------------------------------------------------------------------------------------------------------------\n",
      "| -24.2434 | -30.6336 | -32.8335 | -34.7014 | -32.7143 | -21.3894 | -16.1881 | -7.3900 | -0.7272 | 6.3839 | 18.0979 | 26.8597 | 36.7622 | 46.2892 | 57.5012 | \n",
      "------------------------------------------------------------------------------------------------------------------------------------------------------\n",
      "| -19.7088 | -22.7121 | -31.4822 | -33.9332 | -30.8750 | -26.0329 | -16.2873 | -7.7253 | 2.4098 | 8.8028 | 15.5268 | 31.4315 | 44.3197 | 58.9710 | 72.5316 | \n",
      "------------------------------------------------------------------------------------------------------------------------------------------------------\n",
      "| -17.1549 | -19.3394 | -23.5092 | -31.5681 | -26.0673 | -20.8519 | -10.5672 | -2.4678 | 6.5248 | 14.4827 | 24.0936 | 36.3466 | 55.8388 | 72.5318 | 90.0097 | \n",
      "------------------------------------------------------------------------------------------------------------------------------------------------------\n",
      "| -16.4608 | -17.8562 | -21.2826 | -25.1530 | -23.2666 | -17.3498 | -8.6203 | 4.2827 | 12.1264 | 23.0267 | 33.6552 | 49.2271 | 65.3499 | 88.6642 | 0.0000 | \n",
      "------------------------------------------------------------------------------------------------------------------------------------------------------\n"
     ]
    }
   ],
   "source": [
    "print(\"states value :\\n\", show_states_value_on_map(value_iteration.get_state_values(), MAP_SIZE))"
   ]
  },
  {
   "cell_type": "code",
   "execution_count": 22,
   "id": "497e38bd",
   "metadata": {},
   "outputs": [
    {
     "name": "stdout",
     "output_type": "stream",
     "text": [
      "state-action value : \n",
      "\n",
      " [[[-1.63540219e+01 -1.66892577e+01 -1.98311992e+01 -1.63540219e+01]\n",
      "  [-1.77709255e+01 -1.88053064e+01 -2.55732025e+01 -2.12481029e+01]\n",
      "  [-2.41913837e+01 -2.86146919e+01 -3.15077868e+01 -2.85164833e+01]\n",
      "  [-2.96071985e+01 -3.03894085e+01 -3.11423887e+01 -3.25985020e+01]\n",
      "  [-3.25590710e+01 -2.48325964e+01 -3.48485620e+01 -3.11029577e+01]\n",
      "  [-3.25848939e+01 -3.33502334e+01 -3.58969237e+01 -3.63304983e+01]\n",
      "  [-3.77052282e+01 -3.69063407e+01 -4.00266265e+01 -3.72716537e+01]\n",
      "  [-3.79429318e+01 -4.24718354e+01 -3.75099582e+01 -4.06979046e+01]\n",
      "  [-3.95531621e+01 -3.80924985e+01 -3.31643287e+01 -3.63652157e+01]\n",
      "  [-3.58303568e+01 -3.66778225e+01 -3.66889671e+01 -3.26294698e+01]\n",
      "  [-3.25476101e+01 -3.26491575e+01 -3.92041443e+01 -3.66071075e+01]\n",
      "  [-3.77106360e+01 -3.49644619e+01 -3.90605342e+01 -4.03076729e+01]\n",
      "  [-4.08959941e+01 -3.62838742e+01 -4.10977936e+01 -3.96488555e+01]\n",
      "  [-3.94737593e+01 -3.75652767e+01 -3.82138221e+01 -4.09226974e+01]\n",
      "  [-4.00949815e+01 -3.30312025e+01 -3.73861062e+01 -3.73861062e+01]]\n",
      "\n",
      " [[-1.72989537e+01 -2.30646901e+01 -1.79980987e+01 -1.69637178e+01]\n",
      "  [-1.82584308e+01 -1.94377481e+01 -2.58236805e+01 -2.14003723e+01]\n",
      "  [-1.99408586e+01 -2.06124818e+01 -2.74909648e+01 -2.67087547e+01]\n",
      "  [-2.75267948e+01 -2.13112749e+01 -2.26934152e+01 -3.04198897e+01]\n",
      "  [-2.92049894e+01 -2.20070385e+01 -3.07233091e+01 -2.99579696e+01]\n",
      "  [-2.44265395e+01 -2.67699553e+01 -3.36436175e+01 -3.44425051e+01]\n",
      "  [-3.38103584e+01 -3.17104395e+01 -4.08859522e+01 -3.63570487e+01]\n",
      "  [-3.72473071e+01 -3.87976844e+01 -3.89069294e+01 -4.03675930e+01]\n",
      "  [-4.23406143e+01 -3.93648654e+01 -3.82262028e+01 -3.73787372e+01]\n",
      "  [-3.71901470e+01 -3.63360414e+01 -3.23635246e+01 -3.22619772e+01]\n",
      "  [-3.64558145e+01 -3.29629778e+01 -3.37207851e+01 -3.64669592e+01]\n",
      "  [-3.21706284e+01 -3.12129895e+01 -3.41134953e+01 -3.87256152e+01]\n",
      "  [-3.42867107e+01 -3.61219991e+01 -3.64743005e+01 -3.83827831e+01]\n",
      "  [-3.44118082e+01 -3.34063730e+01 -3.21619486e+01 -3.92257276e+01]\n",
      "  [-3.48947862e+01 -2.78441046e+01 -3.11884279e+01 -3.55433316e+01]]\n",
      "\n",
      " [[-2.41037731e+01 -2.37571265e+01 -1.95173539e+01 -1.83380366e+01]\n",
      "  [-2.42142302e+01 -2.36397301e+01 -1.98192619e+01 -1.91476387e+01]\n",
      "  [-1.95021775e+01 -2.05016482e+01 -1.96725900e+01 -2.58881099e+01]\n",
      "  [-1.97826855e+01 -2.05480254e+01 -1.94632175e+01 -2.66611684e+01]\n",
      "  [-1.93113773e+01 -1.89105700e+01 -2.30369334e+01 -2.06935176e+01]\n",
      "  [-2.10529818e+01 -2.38611719e+01 -2.76693336e+01 -2.97692525e+01]\n",
      "  [-2.77783030e+01 -3.07334838e+01 -3.62023424e+01 -3.46519652e+01]\n",
      "  [-3.19601678e+01 -3.40053018e+01 -3.81599316e+01 -4.11356805e+01]\n",
      "  [-3.82792097e+01 -3.59327536e+01 -3.75343491e+01 -3.83884547e+01]\n",
      "  [-3.78330789e+01 -3.42634799e+01 -3.32015797e+01 -3.66944163e+01]\n",
      "  [-3.47242355e+01 -2.67635967e+01 -2.97940797e+01 -3.07517186e+01]\n",
      "  [-3.17283611e+01 -2.87243829e+01 -3.43214566e+01 -3.24861683e+01]\n",
      "  [-2.99162869e+01 -2.87112651e+01 -3.18113575e+01 -3.28167927e+01]\n",
      "  [-3.38797012e+01 -2.75497901e+01 -2.71813211e+01 -3.42320027e+01]\n",
      "  [-3.00127146e+01 -2.10643013e+01 -2.54239669e+01 -2.87682901e+01]]\n",
      "\n",
      " [[-2.53583764e+01 -2.55348672e+01 -2.51305230e+01 -2.57050230e+01]\n",
      "  [-2.44110335e+01 -2.65023344e+01 -2.11707317e+01 -2.01712610e+01]\n",
      "  [-2.36342436e+01 -2.27388613e+01 -2.05791152e+01 -1.98137754e+01]\n",
      "  [-2.03931201e+01 -2.53588079e+01 -1.91632547e+01 -1.95640619e+01]\n",
      "  [-1.98057897e+01 -1.89767968e+01 -2.15291720e+01 -1.87209819e+01]\n",
      "  [-2.02134898e+01 -2.31332193e+01 -2.72950340e+01 -2.43398532e+01]\n",
      "  [-2.49080942e+01 -2.84362223e+01 -3.07613898e+01 -2.87162559e+01]\n",
      "  [-3.05307202e+01 -2.71550365e+01 -3.36531227e+01 -3.59995788e+01]\n",
      "  [-3.32810069e+01 -3.34354514e+01 -3.38660377e+01 -3.74356367e+01]\n",
      "  [-3.34413651e+01 -2.96542342e+01 -2.70823218e+01 -3.50429606e+01]\n",
      "  [-3.15769492e+01 -2.55241789e+01 -2.75110708e+01 -3.05150490e+01]\n",
      "  [-2.40225865e+01 -1.76998248e+01 -2.58480478e+01 -2.70530696e+01]\n",
      "  [-2.63863183e+01 -1.98565316e+01 -2.56534808e+01 -3.19833920e+01]\n",
      "  [-2.64379711e+01 -2.39570768e+01 -2.05896502e+01 -2.95380634e+01]\n",
      "  [-2.37078758e+01 -1.83966483e+01 -1.89797413e+01 -2.33394068e+01]]\n",
      "\n",
      " [[-2.59136882e+01 -2.60376155e+01 -2.78284983e+01 -2.57371974e+01]\n",
      "  [-2.53975043e+01 -2.58667181e+01 -2.40977777e+01 -2.49931601e+01]\n",
      "  [-2.80486576e+01 -2.92701372e+01 -2.76827427e+01 -2.27170548e+01]\n",
      "  [-2.26754526e+01 -2.32540359e+01 -1.96867137e+01 -2.05157065e+01]\n",
      "  [-2.55798547e+01 -1.94215256e+01 -2.23040309e+01 -1.93843015e+01]\n",
      "  [-1.97404778e+01 -1.88152381e+01 -2.58209811e+01 -2.22928530e+01]\n",
      "  [-2.32256849e+01 -2.12812520e+01 -2.40118160e+01 -2.73874996e+01]\n",
      "  [-2.87702561e+01 -2.50467525e+01 -3.12498682e+01 -3.10954237e+01]\n",
      "  [-2.54560776e+01 -2.47715946e+01 -2.81670329e+01 -3.19541638e+01]\n",
      "  [-3.08182402e+01 -2.45828981e+01 -2.51960562e+01 -3.12488266e+01]\n",
      "  [-2.56302069e+01 -1.95565747e+01 -1.67355328e+01 -2.30582945e+01]\n",
      "  [-2.15323494e+01 -1.31679079e+01 -1.69894547e+01 -2.35192413e+01]\n",
      "  [-1.63311476e+01 -1.81277622e+01 -2.19984763e+01 -2.44793706e+01]\n",
      "  [-1.64459319e+01 -1.41532584e+01 -1.69316535e+01 -2.22428810e+01]\n",
      "  [-2.08965775e+01 -1.45459819e+01 -1.69460579e+01 -1.75291509e+01]]\n",
      "\n",
      " [[-2.56619080e+01 -2.45528411e+01 -2.60071945e+01 -2.55379807e+01]\n",
      "  [-2.65986139e+01 -2.65278965e+01 -2.96109763e+01 -2.83894967e+01]\n",
      "  [-2.59465000e+01 -2.62727767e+01 -2.47561429e+01 -2.41775597e+01]\n",
      "  [-2.95057043e+01 -3.08902689e+01 -2.17599807e+01 -2.79183098e+01]\n",
      "  [-2.32824773e+01 -2.46287753e+01 -1.87899154e+01 -1.97151551e+01]\n",
      "  [-1.84310023e+01 -1.76708947e+01 -1.93690747e+01 -2.13135076e+01]\n",
      "  [-1.84519030e+01 -1.73925075e+01 -2.17341423e+01 -2.54576460e+01]\n",
      "  [-1.96876258e+01 -1.61304682e+01 -2.17337068e+01 -2.24181898e+01]\n",
      "  [-2.23619245e+01 -1.60573578e+01 -2.23296980e+01 -2.85650402e+01]\n",
      "  [-2.16614000e+01 -1.35454788e+01 -1.89832061e+01 -2.50568383e+01]\n",
      "  [-1.95553616e+01 -1.00426966e+01 -1.18040782e+01 -2.01685197e+01]\n",
      "  [-1.62397705e+01 -6.93872479e+00 -1.52153432e+01 -1.34187287e+01]\n",
      "  [-1.01903720e+01 -9.51205751e+00 -1.17192453e+01 -1.40119187e+01]\n",
      "  [-1.61164076e+01 -1.10831556e+01 -1.36365262e+01 -1.99871218e+01]\n",
      "  [-1.14893829e+01 -5.51010666e+00 -1.18677020e+01 -1.42677780e+01]]\n",
      "\n",
      " [[-2.44721881e+01 -2.53894137e+01 -2.55105376e+01 -2.55812550e+01]\n",
      "  [-2.54511411e+01 -3.11545174e+01 -2.72317712e+01 -2.69054944e+01]\n",
      "  [-2.78495104e+01 -3.32438668e+01 -3.23171547e+01 -3.09325902e+01]\n",
      "  [-2.64485298e+01 -2.52518904e+01 -2.62781940e+01 -2.49318960e+01]\n",
      "  [-2.89983639e+01 -2.31808059e+01 -1.91079681e+01 -1.98680757e+01]\n",
      "  [-2.42805642e+01 -2.28296349e+01 -1.73823088e+01 -1.84417044e+01]\n",
      "  [-1.75680287e+01 -2.32125311e+01 -1.57090511e+01 -1.92662087e+01]\n",
      "  [-1.59026896e+01 -1.80512480e+01 -1.39397577e+01 -2.02443244e+01]\n",
      "  [-1.45866748e+01 -1.76814761e+01 -1.20739921e+01 -2.01899133e+01]\n",
      "  [-1.25269663e+01 -1.33971913e+01 -9.28664160e+00 -1.87993066e+01]\n",
      "  [-9.93670917e+00 -1.17746906e+01 -6.07339077e+00 -1.53744365e+01]\n",
      "  [-6.26187245e+00 -2.13234827e+00 -7.34493960e+00 -8.02325404e+00]\n",
      "  [-5.57135902e+00 -9.90484766e+00 -8.81472539e+00 -1.38479775e+01]\n",
      "  [-7.20699128e+00 -2.32685805e+00 -3.43490281e+00 -9.41417906e+00]\n",
      "  [-6.73778939e+00  1.59296457e+00 -2.93356464e+00 -9.29116003e+00]]\n",
      "\n",
      " [[-2.61717283e+01 -2.63924300e+01 -3.09578790e+01 -2.52545026e+01]\n",
      "  [-2.71202167e+01 -3.12641698e+01 -3.26356970e+01 -2.72413406e+01]\n",
      "  [-3.15385220e+01 -2.90095357e+01 -2.64191363e+01 -2.76157757e+01]\n",
      "  [-3.32041262e+01 -3.20043199e+01 -2.64598562e+01 -3.22774142e+01]\n",
      "  [-2.53514350e+01 -2.72499735e+01 -2.49268093e+01 -2.63777386e+01]\n",
      "  [-2.35219342e+01 -2.65018670e+01 -2.50935987e+01 -1.94490964e+01]\n",
      "  [-2.24007667e+01 -2.01893245e+01 -1.91019991e+01 -1.69534407e+01]\n",
      "  [-2.31521135e+01 -1.76074625e+01 -1.87434350e+01 -1.56486336e+01]\n",
      "  [-1.68920113e+01 -1.32223746e+01 -1.36507461e+01 -1.27805210e+01]\n",
      "  [-1.63989776e+01 -1.18871251e+01 -1.26294750e+01 -1.07914936e+01]\n",
      "  [-1.08311157e+01 -8.20662581e+00 -2.59104175e+00 -6.72056593e+00]\n",
      "  [-9.42067026e+00  1.57387623e+00 -8.05285906e+00 -3.71937042e+00]\n",
      "  [-3.61238993e-01  5.77444827e-01 -6.93697087e-01 -5.57383032e+00]\n",
      "  [-7.35624019e+00 -1.09511276e+00  2.06463604e+00 -6.26611792e+00]\n",
      "  [ 1.42125276e+00  8.52397893e+00  4.83973721e+00  3.13207996e-01]]\n",
      "\n",
      " [[-2.72988341e+01 -3.22415286e+01 -3.12220854e+01 -2.70781323e+01]\n",
      "  [-2.74332279e+01 -3.02829230e+01 -2.94696906e+01 -3.19986768e+01]\n",
      "  [-3.23537096e+01 -3.05524458e+01 -3.25254305e+01 -3.37252369e+01]\n",
      "  [-2.88620976e+01 -2.98045557e+01 -2.81702367e+01 -2.62716982e+01]\n",
      "  [-3.12579218e+01 -3.08169651e+01 -2.86933910e+01 -2.57134582e+01]\n",
      "  [-2.70619254e+01 -2.76974700e+01 -2.25273189e+01 -2.47387612e+01]\n",
      "  [-2.68877450e+01 -2.61232291e+01 -1.99348256e+01 -2.54794767e+01]\n",
      "  [-1.98593439e+01 -2.16119812e+01 -1.51023819e+01 -1.87720186e+01]\n",
      "  [-1.61919615e+01 -1.46606583e+01 -1.28160815e+01 -1.73279340e+01]\n",
      "  [-1.20431607e+01 -1.03917786e+01 -9.84704227e+00 -1.24715321e+01]\n",
      "  [-8.34823841e+00 -7.83335719e-01  1.90395815e+00 -9.09058834e+00]\n",
      "  [-4.83958524e+00  7.66996033e+00  1.71468264e+00  7.75998820e-01]\n",
      "  [ 4.62791920e+00  1.00299917e+01  1.26231135e+00 -4.99881609e+00]\n",
      "  [ 3.85213883e+00  1.05787596e+01  9.68372308e+00  2.58099691e+00]\n",
      "  [ 3.91905547e+00  1.57279417e+01  1.07630460e+01  7.07880426e+00]]\n",
      "\n",
      " [[-3.28914770e+01 -3.27013278e+01 -3.07984777e+01 -2.79487825e+01]\n",
      "  [-3.32259795e+01 -3.18473011e+01 -3.04052725e+01 -3.22065363e+01]\n",
      "  [-3.06152261e+01 -3.13458777e+01 -3.07444518e+01 -2.98019937e+01]\n",
      "  [-3.05968750e+01 -3.43054768e+01 -3.21289029e+01 -3.25698597e+01]\n",
      "  [-3.09713165e+01 -3.44953401e+01 -2.99725421e+01 -2.93369975e+01]\n",
      "  [-3.13911603e+01 -3.30618711e+01 -2.85030702e+01 -2.92675862e+01]\n",
      "  [-2.74254628e+01 -2.56166795e+01 -2.40079489e+01 -2.22553117e+01]\n",
      "  [-2.38792391e+01 -1.82557696e+01 -1.61595324e+01 -1.76908357e+01]\n",
      "  [-2.02074034e+01 -1.53483177e+01 -1.20464220e+01 -1.36978040e+01]\n",
      "  [-1.12106896e+01 -4.11893598e+00 -1.80121014e+00 -9.36611284e+00]\n",
      "  [-6.24296051e+00  1.86453074e+00  6.81132143e+00 -5.69822414e+00]\n",
      "  [ 4.80028272e+00  1.43404716e+01  1.28896491e+01  7.48757659e+00]\n",
      "  [ 1.21984089e+01  1.91942503e+01  1.29697520e+01  6.24313123e+00]\n",
      "  [ 1.49836996e+01  2.12338607e+01  1.80249055e+01  6.21601923e+00]\n",
      "  [ 1.57670924e+01  2.81028463e+01  1.98369516e+01  1.48720559e+01]]\n",
      "\n",
      " [[-3.33427820e+01 -3.17246409e+01 -3.21542529e+01 -3.35329312e+01]\n",
      "  [-3.30968430e+01 -3.20797369e+01 -3.19246445e+01 -3.11939929e+01]\n",
      "  [-3.24816886e+01 -3.57593543e+01 -3.47482619e+01 -3.10396600e+01]\n",
      "  [-3.31653191e+01 -3.88848338e+01 -3.60879167e+01 -3.25638931e+01]\n",
      "  [-3.49011311e+01 -3.35367007e+01 -3.43952680e+01 -3.27245572e+01]\n",
      "  [-3.42219917e+01 -3.02311165e+01 -2.78904105e+01 -2.96991937e+01]\n",
      "  [-3.04722284e+01 -1.96516469e+01 -2.02899580e+01 -2.59134275e+01]\n",
      "  [-2.33588714e+01 -1.47272543e+01 -1.68910551e+01 -2.17501408e+01]\n",
      "  [-1.44663878e+01 -5.97662376e+00 -5.27839705e+00 -1.23701507e+01]\n",
      "  [-1.10177641e+01  3.47598127e-01  3.91622828e-01 -7.71586842e+00]\n",
      "  [ 1.07545125e+00  8.04492942e+00  1.29333660e+01  3.39317709e+00]\n",
      "  [ 8.41787467e+00  2.01250601e+01  2.03605067e+01  1.33646654e+01]\n",
      "  [ 1.93486976e+01  2.82056312e+01  2.41480362e+01  1.78978751e+01]\n",
      "  [ 2.52466976e+01  3.55031652e+01  3.13579532e+01  1.90221993e+01]\n",
      "  [ 2.81641225e+01  4.34207511e+01  3.32210620e+01  2.49551673e+01]]\n",
      "\n",
      " [[-3.04220493e+01 -2.42433673e+01 -3.10230843e+01 -3.20401904e+01]\n",
      "  [-3.16088977e+01 -3.06335923e+01 -3.53161753e+01 -3.20385097e+01]\n",
      "  [-3.29885918e+01 -3.30086610e+01 -3.85530141e+01 -3.28334994e+01]\n",
      "  [-3.70769437e+01 -3.93606431e+01 -3.47014209e+01 -3.60658513e+01]\n",
      "  [-3.95021178e+01 -3.79531593e+01 -3.27143256e+01 -3.67052008e+01]\n",
      "  [-3.13514008e+01 -2.87539027e+01 -2.13893867e+01 -3.22099682e+01]\n",
      "  [-2.71604519e+01 -2.31677404e+01 -1.61881289e+01 -2.48197460e+01]\n",
      "  [-1.52414847e+01 -1.37143264e+01 -7.39003168e+00 -1.58797957e+01]\n",
      "  [-9.92878584e+00 -5.99404006e+00 -7.27224412e-01 -1.20925867e+01]\n",
      "  [-1.28381750e+00  4.32202418e+00  6.38388736e+00 -5.85590797e-01]\n",
      "  [ 6.34668721e+00  1.11611828e+01  1.80978973e+01  6.39071191e+00]\n",
      "  [ 1.31143509e+01  1.81642794e+01  2.68597211e+01  1.80027875e+01]\n",
      "  [ 2.62703213e+01  3.41823945e+01  3.67622356e+01  2.65057680e+01]\n",
      "  [ 3.50901583e+01  4.60335976e+01  4.62891919e+01  3.10325633e+01]\n",
      "  [ 4.33302983e+01  5.75011867e+01  4.93847755e+01  3.91850864e+01]]\n",
      "\n",
      " [[-2.22565453e+01 -1.97087768e+01 -2.74599219e+01 -2.84352273e+01]\n",
      "  [-2.29995051e+01 -2.27120508e+01 -2.97992913e+01 -2.97792221e+01]\n",
      "  [-3.14821571e+01 -3.19874865e+01 -3.84484396e+01 -3.61647401e+01]\n",
      "  [-3.39331561e+01 -3.52895017e+01 -3.79285507e+01 -3.94775093e+01]\n",
      "  [-3.81316768e+01 -3.24361080e+01 -3.08749565e+01 -3.34724545e+01]\n",
      "  [-3.52644567e+01 -2.86647861e+01 -2.60329114e+01 -3.00256229e+01]\n",
      "  [-2.51790205e+01 -1.86749650e+01 -1.62873462e+01 -1.78145044e+01]\n",
      "  [-1.86396486e+01 -8.03017245e+00 -7.72529131e+00 -1.16600371e+01]\n",
      "  [-9.52029516e+00  2.11283961e-02  2.40984127e+00 -3.19600042e+00]\n",
      "  [-1.27853628e+00  6.89988285e+00  8.80277495e+00  3.98827937e+00]\n",
      "  [ 8.41497446e+00  1.53474278e+01  1.55267661e+01  1.04768376e+01]\n",
      "  [ 1.65827213e+01  2.46781983e+01  3.14315090e+01  2.35194358e+01]\n",
      "  [ 2.46807916e+01  3.89295632e+01  4.43196726e+01  3.33762333e+01]\n",
      "  [ 4.22202453e+01  5.81079210e+01  5.89709747e+01  4.48000864e+01]\n",
      "  [ 5.47213775e+01  7.25315777e+01  6.30933830e+01  5.49769718e+01]]\n",
      "\n",
      " [[-1.73128935e+01 -1.71548751e+01 -1.95732077e+01 -1.98606620e+01]\n",
      "  [-1.93394179e+01 -2.01410092e+01 -2.75958924e+01 -2.70905630e+01]\n",
      "  [-2.35091648e+01 -2.72028889e+01 -3.19527509e+01 -3.05964053e+01]\n",
      "  [-3.15680870e+01 -3.19582297e+01 -3.23334712e+01 -3.80290400e+01]\n",
      "  [-3.30017177e+01 -2.60672974e+01 -2.90410962e+01 -3.56407668e+01]\n",
      "  [-2.89170935e+01 -2.26001287e+01 -2.08518864e+01 -2.73559419e+01]\n",
      "  [-2.38085406e+01 -1.58729256e+01 -1.05671897e+01 -2.11766659e+01]\n",
      "  [-1.43968794e+01 -6.30100335e+00 -2.46783706e+00 -1.20092606e+01]\n",
      "  [-2.70479988e+00  6.52479447e+00  5.77850038e+00 -2.39991874e+00]\n",
      "  [ 5.16155037e+00  1.39243636e+01  1.44827166e+01  7.55026324e+00]\n",
      "  [ 1.23687503e+01  2.40935630e+01  2.23671193e+01  1.42716424e+01]\n",
      "  [ 2.19185343e+01  3.51140203e+01  3.63466443e+01  2.20978727e+01]\n",
      "  [ 3.31977957e+01  5.24201546e+01  5.58387822e+01  3.99511064e+01]\n",
      "  [ 4.93314423e+01  6.87403057e+01  7.25317519e+01  5.47215516e+01]\n",
      "  [ 6.83077145e+01  9.00097162e+01  7.86089629e+01  6.91707681e+01]]\n",
      "\n",
      " [[-1.64607901e+01 -1.64607901e+01 -1.74203998e+01 -1.66188085e+01]\n",
      "  [-1.78561853e+01 -1.88157950e+01 -2.39682419e+01 -2.02745178e+01]\n",
      "  [-2.12825943e+01 -2.64350412e+01 -2.91276202e+01 -2.87374775e+01]\n",
      "  [-2.73375936e+01 -3.00301726e+01 -2.51530353e+01 -3.20874557e+01]\n",
      "  [-2.92083083e+01 -2.43311710e+01 -2.32665851e+01 -2.95835498e+01]\n",
      "  [-2.23115821e+01 -2.12469962e+01 -1.73497660e+01 -2.52853809e+01]\n",
      "  [-1.84644410e+01 -1.45672108e+01 -8.62032261e+00 -1.67161987e+01]\n",
      "  [-1.02526634e+01 -4.30577521e+00  4.28266694e+00 -4.94692741e+00]\n",
      "  [-4.69577508e-01  8.11886464e+00  1.21264021e+01  3.36358878e+00]\n",
      "  [ 1.20481884e+01  1.60557258e+01  2.30267071e+01  1.13018943e+01]\n",
      "  [ 1.99013193e+01  2.68723005e+01  3.36551581e+01  2.04596722e+01]\n",
      "  [ 3.17311474e+01  3.85140050e+01  4.92270626e+01  3.00047037e+01]\n",
      "  [ 4.47083834e+01  5.54214410e+01  6.53498708e+01  4.59410074e+01]\n",
      "  [ 6.35435657e+01  7.34719955e+01  8.86641949e+01  6.69621932e+01]\n",
      "  [ 0.00000000e+00  0.00000000e+00  0.00000000e+00  0.00000000e+00]]]\n"
     ]
    }
   ],
   "source": [
    "print(\"state-action value : \\n\\n\", value_iteration.get_q_values())"
   ]
  },
  {
   "cell_type": "code",
   "execution_count": 23,
   "id": "c0218b1a",
   "metadata": {},
   "outputs": [
    {
     "name": "stdout",
     "output_type": "stream",
     "text": [
      "optimal policy :\n",
      " \n",
      "----------------------------------------------------------------\n",
      "| ← | ← | ← | ← | ↓ | ← | ↓ | → | → | ↑ | ← | ↓ | ↓ | ↓ | ↓ | \n",
      "----------------------------------------------------------------\n",
      "| ↑ | ← | ← | ↓ | ↓ | ← | ↓ | ← | ↑ | ↑ | ↓ | ↓ | ← | → | ↓ | \n",
      "----------------------------------------------------------------\n",
      "| ↑ | ↑ | ← | → | ↓ | ← | ← | ← | ↓ | → | ↓ | ↓ | ↓ | → | ↓ | \n",
      "----------------------------------------------------------------\n",
      "| → | ↑ | ↑ | → | ↑ | ← | ← | ↓ | ← | → | ↓ | ↓ | ↓ | → | ↓ | \n",
      "----------------------------------------------------------------\n",
      "| ↑ | → | ↑ | → | ↑ | ↓ | ↓ | ↓ | ↓ | ↓ | → | ↓ | ← | ↓ | ↓ | \n",
      "----------------------------------------------------------------\n",
      "| ↓ | ↓ | ↑ | → | → | ↓ | ↓ | ↓ | ↓ | ↓ | ↓ | ↓ | ↓ | ↓ | ↓ | \n",
      "----------------------------------------------------------------\n",
      "| ← | ← | ← | ↑ | → | → | → | → | → | → | → | ↓ | ← | ↓ | ↓ | \n",
      "----------------------------------------------------------------\n",
      "| ↑ | ← | → | → | → | ↑ | ↑ | ↑ | ↑ | ↑ | → | ↓ | ↓ | → | ↓ | \n",
      "----------------------------------------------------------------\n",
      "| ↑ | ← | ↓ | ↑ | ↑ | → | → | → | → | → | → | ↓ | ↓ | ↓ | ↓ | \n",
      "----------------------------------------------------------------\n",
      "| ↑ | → | ↑ | ← | ↑ | → | ↑ | → | → | → | → | ↓ | ↓ | ↓ | ↓ | \n",
      "----------------------------------------------------------------\n",
      "| ↓ | ↑ | ↑ | ↑ | ↑ | → | ↓ | ↓ | → | → | → | → | ↓ | ↓ | ↓ | \n",
      "----------------------------------------------------------------\n",
      "| ↓ | ↓ | ↑ | → | → | → | → | → | → | → | → | → | → | → | ↓ | \n",
      "----------------------------------------------------------------\n",
      "| ↓ | ↓ | ← | ← | → | → | → | → | → | → | → | → | → | → | ↓ | \n",
      "----------------------------------------------------------------\n",
      "| ↓ | ← | ← | ← | ↓ | → | → | → | ↓ | → | ↓ | → | → | → | ↓ | \n",
      "----------------------------------------------------------------\n",
      "| ← | ← | ← | → | → | → | → | → | → | → | → | → | → | → | * | \n",
      "----------------------------------------------------------------\n"
     ]
    }
   ],
   "source": [
    "print(\"optimal policy :\\n\", show_actions_on_map(value_iteration, MAP_SIZE))"
   ]
  },
  {
   "cell_type": "markdown",
   "id": "c9775b2b",
   "metadata": {},
   "source": [
    "<a name='2-3-2'></a>\n",
    "### B"
   ]
  },
  {
   "cell_type": "code",
   "execution_count": 38,
   "id": "188d9f1e",
   "metadata": {},
   "outputs": [
    {
     "name": "stdout",
     "output_type": "stream",
     "text": [
      "Convergence time: 32.790149211883545\n"
     ]
    }
   ],
   "source": [
    "value_iteration = ValueIteration(FrozenLake(studentNum=Sd_number), Discount, 1e-8, MAP_SIZE)\n",
    "\n",
    "start = time.time()\n",
    "value_iteration.value_estimation()\n",
    "end = time.time()\n",
    "\n",
    "print(\"Convergence time:\", end - start)"
   ]
  },
  {
   "cell_type": "code",
   "execution_count": 39,
   "id": "1c76d32c",
   "metadata": {},
   "outputs": [
    {
     "name": "stdout",
     "output_type": "stream",
     "text": [
      "states value :\n",
      " \n",
      "------------------------------------------------------------------------------------------------------------------------------------------------------\n",
      "| -9.4494 | -9.6828 | -15.5957 | -14.2689 | -5.8359 | -14.5395 | -12.2541 | -4.8056 | 5.2702 | 11.6100 | 24.3183 | 31.4742 | 37.8398 | 45.5492 | 58.3306 | \n",
      "------------------------------------------------------------------------------------------------------------------------------------------------------\n",
      "| -8.6000 | -7.1480 | -4.9839 | -1.8561 | 0.6635 | -3.3817 | -3.3516 | -0.2640 | 8.8562 | 23.6576 | 33.5267 | 46.0412 | 51.4161 | 64.2515 | 79.1978 | \n",
      "------------------------------------------------------------------------------------------------------------------------------------------------------\n",
      "| -6.9564 | -4.1271 | -0.2894 | 3.8515 | 8.5749 | 6.2034 | 5.4243 | 12.6980 | 20.3503 | 33.3540 | 51.6270 | 62.6684 | 74.8393 | 88.4228 | 106.7267 | \n",
      "------------------------------------------------------------------------------------------------------------------------------------------------------\n",
      "| -10.4533 | -2.7950 | 2.3745 | 8.8225 | 14.4437 | 15.8319 | 18.1604 | 28.9102 | 33.5645 | 51.4875 | 66.8427 | 90.3401 | 102.6952 | 116.6716 | 134.3838 | \n",
      "------------------------------------------------------------------------------------------------------------------------------------------------------\n",
      "| -10.3495 | -4.9394 | -0.1654 | 13.6102 | 20.5903 | 28.2499 | 34.7798 | 41.8640 | 54.3035 | 68.4457 | 92.0214 | 114.5653 | 128.3594 | 153.2189 | 168.2723 | \n",
      "------------------------------------------------------------------------------------------------------------------------------------------------------\n",
      "| -6.6830 | -4.2822 | 7.1452 | 17.8470 | 28.5027 | 38.1670 | 49.1584 | 62.7625 | 77.0608 | 96.0616 | 118.8402 | 144.1713 | 163.3420 | 188.1912 | 212.8247 | \n",
      "------------------------------------------------------------------------------------------------------------------------------------------------------\n",
      "| -4.0364 | -0.3084 | 4.5642 | 19.4771 | 35.9190 | 48.2623 | 62.6713 | 78.9187 | 97.5076 | 119.6887 | 145.7206 | 176.3719 | 198.0752 | 234.1872 | 262.3808 | \n",
      "------------------------------------------------------------------------------------------------------------------------------------------------------\n",
      "| -0.9578 | 2.4509 | 16.0454 | 24.7223 | 35.2701 | 50.4084 | 71.7346 | 91.7676 | 115.9889 | 140.5208 | 176.6205 | 212.5496 | 246.7227 | 282.6682 | 320.2391 | \n",
      "------------------------------------------------------------------------------------------------------------------------------------------------------\n",
      "| 2.6796 | 12.9536 | 21.0158 | 34.1675 | 47.9289 | 68.9055 | 89.2088 | 114.1780 | 139.6655 | 169.6480 | 213.2068 | 256.2863 | 301.4188 | 347.5146 | 388.6415 | \n",
      "------------------------------------------------------------------------------------------------------------------------------------------------------\n",
      "| 11.9736 | 20.6588 | 31.5822 | 43.7978 | 61.3563 | 79.9117 | 105.3677 | 136.3584 | 167.6782 | 209.6743 | 255.6001 | 307.0170 | 362.9023 | 421.0661 | 474.0913 | \n",
      "------------------------------------------------------------------------------------------------------------------------------------------------------\n",
      "| 16.3927 | 26.1856 | 38.0835 | 54.3901 | 75.0999 | 101.2313 | 132.6716 | 164.9405 | 206.3335 | 249.3786 | 305.7390 | 364.7674 | 433.2172 | 509.2101 | 577.2340 | \n",
      "------------------------------------------------------------------------------------------------------------------------------------------------------\n",
      "| 25.4710 | 31.9921 | 48.9661 | 72.3211 | 95.9005 | 130.7946 | 163.2501 | 204.0178 | 248.2146 | 299.4008 | 362.8699 | 432.4120 | 513.6631 | 606.9682 | 697.1797 | \n",
      "------------------------------------------------------------------------------------------------------------------------------------------------------\n",
      "| 36.2805 | 45.4664 | 60.0456 | 86.1487 | 118.0440 | 151.0961 | 193.1086 | 239.5525 | 294.2916 | 353.2136 | 421.6378 | 510.0828 | 607.9014 | 722.1596 | 840.1557 | \n",
      "------------------------------------------------------------------------------------------------------------------------------------------------------\n",
      "| 46.8767 | 57.6370 | 80.3174 | 106.0853 | 139.9885 | 180.3734 | 228.5430 | 281.0866 | 342.5597 | 413.5944 | 496.6964 | 597.9587 | 719.9853 | 856.3128 | 1012.6762 | \n",
      "------------------------------------------------------------------------------------------------------------------------------------------------------\n",
      "| 57.0341 | 70.1797 | 94.0861 | 126.5341 | 159.6911 | 201.5305 | 252.6568 | 316.2558 | 384.9212 | 468.9355 | 567.4733 | 689.0817 | 833.0943 | 1011.3425 | 0.0000 | \n",
      "------------------------------------------------------------------------------------------------------------------------------------------------------\n"
     ]
    }
   ],
   "source": [
    "print(\"states value :\\n\", show_states_value_on_map(value_iteration.get_state_values(), MAP_SIZE))"
   ]
  },
  {
   "cell_type": "code",
   "execution_count": 40,
   "id": "43c87f3b",
   "metadata": {
    "scrolled": true
   },
   "outputs": [
    {
     "name": "stdout",
     "output_type": "stream",
     "text": [
      "state-action value : \n",
      "\n",
      " [[[-9.90199910e+00 -9.44935994e+00 -1.27400892e+01 -9.90199910e+00]\n",
      "  [-1.09195007e+01 -9.68276861e+00 -1.78086032e+01 -1.37575908e+01]\n",
      "  [-1.55956580e+01 -1.63098281e+01 -1.89969795e+01 -1.96466705e+01]\n",
      "  [-1.93507777e+01 -1.42688904e+01 -1.52694535e+01 -1.87010867e+01]\n",
      "  [-1.75218012e+01 -5.83591808e+00 -1.83494661e+01 -1.40901680e+01]\n",
      "  [-1.48801619e+01 -1.45395003e+01 -1.51381704e+01 -1.91394600e+01]\n",
      "  [-1.86222380e+01 -1.22540672e+01 -1.30278186e+01 -1.46209483e+01]\n",
      "  [-1.26810077e+01 -1.05511375e+01 -4.80564297e+00 -1.10878780e+01]\n",
      "  [-7.34764408e+00  1.41957561e+00  5.27015072e+00 -1.06540902e+00]\n",
      "  [ 2.51560964e+00  1.11101218e+01  1.16099590e+01  8.85116938e+00]\n",
      "  [ 1.24047108e+01  2.43182761e+01  1.77357864e+01  1.51635004e+01]\n",
      "  [ 1.77183669e+01  3.14742444e+01  2.56876744e+01  2.02906528e+01]\n",
      "  [ 2.28250769e+01  3.78398003e+01  3.16282033e+01  2.82220984e+01]\n",
      "  [ 3.16042386e+01  4.55492183e+01  4.21727806e+01  3.50103435e+01]\n",
      "  [ 3.83460510e+01  5.83306291e+01  4.55084881e+01  4.55084881e+01]]\n",
      "\n",
      " [[-9.38412108e+00 -1.35201492e+01 -8.60002816e+00 -9.83676024e+00]\n",
      "  [-9.56339783e+00 -7.14800423e+00 -1.35682971e+01 -1.28541271e+01]\n",
      "  [-8.68756174e+00 -4.98392745e+00 -1.17315091e+01 -1.68133963e+01]\n",
      "  [-1.25848106e+01 -1.85610981e+00 -3.58607887e+00 -1.52719620e+01]\n",
      "  [-1.08708075e+01  6.63507785e-01 -1.15307089e+01 -1.18713706e+01]\n",
      "  [-3.51463764e+00 -3.38171081e+00 -9.66001489e+00 -1.60281857e+01]\n",
      "  [-1.20166769e+01 -3.35155848e+00 -1.04854768e+01 -1.26153470e+01]\n",
      "  [-8.25743932e+00 -1.00619220e+00 -2.63971042e-01 -9.03119073e+00]\n",
      "  [-5.48376930e+00  7.91382239e+00  8.85623737e+00  2.61725223e-01]\n",
      "  [ 7.89350574e+00  1.97207417e+01  2.36576462e+01  1.17440808e+01]\n",
      "  [ 1.78995100e+01  3.35266598e+01  3.21552247e+01  1.83993472e+01]\n",
      "  [ 3.16359240e+01  4.60412362e+01  4.00681576e+01  2.50534342e+01]\n",
      "  [ 3.90513458e+01  5.14160760e+01  4.72097555e+01  3.32647758e+01]\n",
      "  [ 4.70993919e+01  6.42515354e+01  6.08723729e+01  4.08877949e+01]\n",
      "  [ 5.52032376e+01  7.91977959e+01  6.46489408e+01  5.18267999e+01]]\n",
      "\n",
      " [[-1.35077904e+01 -1.13815491e+01 -6.95636865e+00 -9.37176225e+00]\n",
      "  [-1.27508324e+01 -8.93926978e+00 -4.12707706e+00 -7.83071135e+00]\n",
      "  [-4.59783015e+00 -1.72670997e+00 -2.89422216e-01 -1.10181230e+01]\n",
      "  [-9.35277557e-01  3.03678497e+00  3.85145615e+00 -7.68285917e+00]\n",
      "  [ 2.85510734e+00  8.57489946e+00  1.25806511e+00  1.12513828e+00]\n",
      "  [ 4.38921806e+00  6.20338429e+00  8.60119793e-01 -7.80499866e+00]\n",
      "  [-1.59088205e-01  5.42430267e+00  8.13854832e-01 -6.43739229e+00]\n",
      "  [ 2.39732101e+00  1.26980176e+01  8.66099439e+00 -4.73659730e+00]\n",
      "  [ 6.02269155e+00  2.03502913e+01  1.85921487e+01  6.76491271e+00]\n",
      "  [ 1.67844420e+01  3.23889060e+01  3.33540068e+01  1.77268570e+01]\n",
      "  [ 2.97282201e+01  5.16269770e+01  4.80704369e+01  3.36651246e+01]\n",
      "  [ 4.36537243e+01  6.26683537e+01  5.46470194e+01  4.22822892e+01]\n",
      "  [ 5.68084126e+01  7.48392913e+01  6.79874774e+01  5.08353339e+01]\n",
      "  [ 6.38890717e+01  8.84227773e+01  8.36773094e+01  5.96827511e+01]\n",
      "  [ 7.77030744e+01  1.06726732e+02  8.88727670e+01  7.43239120e+01]]\n",
      "\n",
      " [[-1.21386307e+01 -1.19314742e+01 -1.04533093e+01 -1.42648720e+01]\n",
      "  [-1.00913332e+01 -9.76279286e+00 -2.79503258e+00 -5.66615275e+00]\n",
      "  [-6.40970807e+00 -2.71959729e+00  2.37454717e+00 -1.59751535e+00]\n",
      "  [ 1.66538806e+00  2.69836314e+00  8.82246794e+00  3.10267582e+00]\n",
      "  [ 7.14070252e+00  1.44436638e+01  9.76953994e+00  7.95537371e+00]\n",
      "  [ 1.12453436e+01  1.58318989e+01  9.51190016e+00  3.92850929e+00]\n",
      "  [ 1.08801041e+01  1.81604416e+01  1.58375362e+01  5.53683959e+00]\n",
      "  [ 1.26597531e+01  2.89102183e+01  2.23769050e+01  8.04930532e+00]\n",
      "  [ 2.12936199e+01  3.35644815e+01  3.28610608e+01  1.72565967e+01]\n",
      "  [ 3.13468960e+01  4.92729319e+01  5.14875103e+01  2.95887534e+01]\n",
      "  [ 4.44889167e+01  6.68427374e+01  6.44686469e+01  4.54540174e+01]\n",
      "  [ 6.49195590e+01  9.03401030e+01  7.93938976e+01  6.13630189e+01]\n",
      "  [ 7.63740552e+01  1.02695199e+02  9.28864265e+01  6.83527209e+01]\n",
      "  [ 8.99877234e+01  1.16671637e+02  1.12159567e+02  8.31359095e+01]\n",
      "  [ 1.04471817e+02  1.34383829e+02  1.17580315e+02  9.97263495e+01]]\n",
      "\n",
      " [[-1.15659649e+01 -1.03495258e+01 -1.14445810e+01 -1.17731214e+01]\n",
      "  [-1.01076522e+01 -6.87355018e+00 -4.93937657e+00 -8.62948735e+00]\n",
      "  [-8.16613873e+00 -2.81884958e+00 -1.65403370e-01 -1.19837845e+00]\n",
      "  [ 1.21313819e+00  9.84441653e+00  1.36102439e+01  6.30728266e+00]\n",
      "  [ 6.87425039e+00  2.05902515e+01  1.75849104e+01  1.29983552e+01]\n",
      "  [ 1.87584832e+01  2.82499347e+01  2.13646969e+01  1.40843594e+01]\n",
      "  [ 2.23130883e+01  3.47798138e+01  3.22435548e+01  1.59930896e+01]\n",
      "  [ 2.58112167e+01  4.18639714e+01  3.57591729e+01  2.34883112e+01]\n",
      "  [ 3.94669853e+01  5.43034865e+01  5.08597079e+01  3.29336720e+01]\n",
      "  [ 4.57231119e+01  6.84457477e+01  6.73735118e+01  4.50196911e+01]\n",
      "  [ 6.43863069e+01  8.98212206e+01  9.20214294e+01  6.66008854e+01]\n",
      "  [ 8.33301843e+01  1.14565272e+02  1.07277238e+02  8.09560938e+01]\n",
      "  [ 1.05790771e+02  1.28359442e+02  1.21528479e+02  9.48445655e+01]\n",
      "  [ 1.21450991e+02  1.53218878e+02  1.41554229e+02  1.11642218e+02]\n",
      "  [ 1.34401888e+02  1.68272312e+02  1.46693333e+02  1.29889819e+02]]\n",
      "\n",
      " [[-9.17769287e+00 -6.68300940e+00 -7.16002997e+00 -1.03941320e+01]\n",
      "  [-8.53446650e+00 -4.53637961e+00 -4.28223262e+00 -9.62952176e+00]\n",
      "  [-3.42022385e+00  1.74424300e+00  7.14522810e+00 -1.48605024e+00]\n",
      "  [ 1.47752274e+00  7.15949139e+00  1.78469700e+01  4.13096895e+00]\n",
      "  [ 1.52454521e+01  2.22259743e+01  2.85027310e+01  1.90112795e+01]\n",
      "  [ 2.74968292e+01  3.81670135e+01  3.69582136e+01  2.44914881e+01]\n",
      "  [ 3.59260778e+01  4.91583924e+01  4.50935946e+01  2.90408399e+01]\n",
      "  [ 4.49993027e+01  6.27625440e+01  5.72995448e+01  4.24630437e+01]\n",
      "  [ 5.41844125e+01  7.70608071e+01  7.08022498e+01  4.80796140e+01]\n",
      "  [ 6.85828567e+01  9.60616276e+01  9.05739918e+01  6.51390781e+01]\n",
      "  [ 8.65466006e+01  1.18840174e+02  1.16709452e+02  8.54743647e+01]\n",
      "  [ 1.08074677e+02  1.44171286e+02  1.32843557e+02  1.10274886e+02]\n",
      "  [ 1.34293967e+02  1.63342022e+02  1.58773821e+02  1.27005933e+02]\n",
      "  [ 1.48781546e+02  1.88191163e+02  1.75821007e+02  1.41950583e+02]\n",
      "  [ 1.73628117e+02  2.12824675e+02  1.83542448e+02  1.61963469e+02]]\n",
      "\n",
      " [[-5.53980323e+00 -4.37211277e+00 -4.03639981e+00 -8.03448670e+00]\n",
      "  [-4.99584919e+00 -5.76614024e+00 -3.08402912e-01 -5.47286976e+00]\n",
      "  [-1.37191852e+00  2.58750339e+00  4.56419712e+00 -1.11777152e+00]\n",
      "  [ 7.09555708e+00  1.84271742e+01  1.94770644e+01  1.24965422e+01]\n",
      "  [ 1.45613569e+01  2.89043963e+01  3.59190199e+01  2.52488356e+01]\n",
      "  [ 2.87532602e+01  3.82126877e+01  4.82623316e+01  3.50300169e+01]\n",
      "  [ 4.61168585e+01  5.29157773e+01  6.26712999e+01  4.49080586e+01]\n",
      "  [ 6.01071077e+01  7.36379355e+01  7.89187045e+01  5.60423099e+01]\n",
      "  [ 7.54918186e+01  9.17889531e+01  9.75075903e+01  7.00288195e+01]\n",
      "  [ 9.36536361e+01  1.15318006e+02  1.19688652e+02  8.73950788e+01]\n",
      "  [ 1.15111610e+02  1.40401211e+02  1.45720583e+02  1.09623974e+02]\n",
      "  [ 1.40284242e+02  1.76371936e+02  1.67201575e+02  1.38153520e+02]\n",
      "  [ 1.65882546e+02  1.98075207e+02  1.93964434e+02  1.54554817e+02]\n",
      "  [ 1.87750255e+02  2.34187156e+02  2.22378612e+02  1.83182054e+02]\n",
      "  [ 2.13441431e+02  2.62380768e+02  2.30353502e+02  2.01071274e+02]]\n",
      "\n",
      " [[-3.68596511e+00 -9.57758600e-01 -5.62394662e+00 -4.85365557e+00]\n",
      "  [-2.09379466e+00  2.45091471e+00  2.20134020e+00 -1.75808171e+00]\n",
      "  [-7.43940946e-01  1.36634619e+01  1.60454135e+01  4.71379638e+00]\n",
      "  [ 8.40259558e+00  1.93087189e+01  2.47223286e+01  1.03792893e+01]\n",
      "  [ 2.47607619e+01  3.49907208e+01  3.52700795e+01  2.58106520e+01]\n",
      "  [ 3.65209948e+01  5.04084438e+01  5.03345373e+01  4.35356185e+01]\n",
      "  [ 4.81541006e+01  7.15800078e+01  7.17345722e+01  5.82037444e+01]\n",
      "  [ 6.43030823e+01  9.17676178e+01  9.03557394e+01  7.40586049e+01]\n",
      "  [ 8.79840198e+01  1.15988933e+02  1.14929159e+02  9.32647889e+01]\n",
      "  [ 1.08617149e+02  1.40520820e+02  1.39625387e+02  1.14335786e+02]\n",
      "  [ 1.36162176e+02  1.71181555e+02  1.76620515e+02  1.40532822e+02]\n",
      "  [ 1.64076540e+02  2.12549645e+02  2.01588574e+02  1.69395912e+02]\n",
      "  [ 2.02361002e+02  2.46722748e+02  2.39627542e+02  1.93190641e+02]\n",
      "  [ 2.27380148e+02  2.82668180e+02  2.72208712e+02  2.23269375e+02]\n",
      "  [ 2.63288962e+02  3.20239073e+02  2.83507684e+02  2.51480418e+02]]\n",
      "\n",
      " [[ 8.63050014e-01  1.40931384e+00  2.67955288e+00 -1.86515649e+00]\n",
      "  [ 3.21241701e+00  1.18681524e+01  1.29536318e+01 -1.45377101e+00]\n",
      "  [ 7.87592803e+00  2.10157534e+01  1.85324768e+01  7.62635351e+00]\n",
      "  [ 2.15556021e+01  3.29394641e+01  3.41675127e+01  2.39375537e+01]\n",
      "  [ 2.86278484e+01  4.54060141e+01  4.79289072e+01  3.40414582e+01]\n",
      "  [ 4.52001962e+01  6.33417552e+01  6.89054621e+01  4.54795549e+01]\n",
      "  [ 6.18181318e+01  8.21253562e+01  8.92087607e+01  6.17442253e+01]\n",
      "  [ 8.60185314e+01  1.07688025e+02  1.14178009e+02  8.61730958e+01]\n",
      "  [ 1.09173705e+02  1.37944886e+02  1.39665498e+02  1.07761826e+02]\n",
      "  [ 1.35688397e+02  1.69196515e+02  1.69648002e+02  1.34628622e+02]\n",
      "  [ 1.65629137e+02  2.10612661e+02  2.13206809e+02  1.64733704e+02]\n",
      "  [ 1.99834915e+02  2.56286255e+02  2.49635621e+02  2.05273875e+02]\n",
      "  [ 2.44667215e+02  3.01418839e+02  2.88994176e+02  2.33706144e+02]\n",
      "  [ 2.82228553e+02  3.47514626e+02  3.32083458e+02  2.75133347e+02]\n",
      "  [ 3.17944185e+02  3.88641457e+02  3.44216106e+02  3.07484717e+02]]\n",
      "\n",
      " [[ 3.86416877e+00  8.47959557e+00  1.19736403e+01  3.31790495e+00]\n",
      "  [ 6.24870116e+00  1.70542266e+01  2.06587655e+01  7.51894021e+00]\n",
      "  [ 1.91128606e+01  2.81341094e+01  3.15822021e+01  2.01983400e+01]\n",
      "  [ 2.95029540e+01  3.96020432e+01  4.37978431e+01  2.70196774e+01]\n",
      "  [ 4.19866966e+01  5.65147114e+01  6.13563041e+01  4.32147451e+01]\n",
      "  [ 5.70815916e+01  7.61622174e+01  7.99117091e+01  5.96044847e+01]\n",
      "  [ 7.81344702e+01  1.03653801e+02  1.05367670e+02  8.36981771e+01]\n",
      "  [ 1.00503784e+02  1.34231410e+02  1.36358370e+02  1.07587189e+02]\n",
      "  [ 1.27680084e+02  1.64449918e+02  1.67678187e+02  1.34170069e+02]\n",
      "  [ 1.62970189e+02  2.07463634e+02  2.09674325e+02  1.64690801e+02]\n",
      "  [ 1.98697281e+02  2.50723040e+02  2.55600108e+02  1.99148768e+02]\n",
      "  [ 2.45843033e+02  3.07017016e+02  3.05188805e+02  2.48437182e+02]\n",
      "  [ 2.95245571e+02  3.62902307e+02  3.53881010e+02  2.88594937e+02]\n",
      "  [ 3.44616586e+02  4.21066138e+02  4.02889194e+02  3.32191922e+02]\n",
      "  [ 3.89405795e+02  4.74091278e+02  4.18399978e+02  3.73974627e+02]]\n",
      "\n",
      " [[ 1.02026418e+01  1.26831745e+01  1.63927404e+01  5.58721498e+00]\n",
      "  [ 1.36702606e+01  2.25218398e+01  2.61855542e+01  1.71643054e+01]\n",
      "  [ 2.43798248e+01  3.42889738e+01  3.80834529e+01  2.79843637e+01]\n",
      "  [ 3.64139934e+01  5.11601718e+01  5.43901009e+01  3.98620861e+01]\n",
      "  [ 5.12385716e+01  7.50998616e+01  7.45149973e+01  5.54343715e+01]\n",
      "  [ 7.08703688e+01  9.88154085e+01  1.01231292e+02  7.57119614e+01]\n",
      "  [ 9.46800478e+01  1.32671554e+02  1.32157166e+02  9.84295395e+01]\n",
      "  [ 1.24403132e+02  1.64940462e+02  1.62886835e+02  1.26117002e+02]\n",
      "  [ 1.59713079e+02  2.05610838e+02  2.06333483e+02  1.61840038e+02]\n",
      "  [ 1.94054549e+02  2.49378623e+02  2.49308576e+02  1.97282818e+02]\n",
      "  [ 2.42354351e+02  3.01047706e+02  3.05739025e+02  2.44565042e+02]\n",
      "  [ 2.92177072e+02  3.64767431e+02  3.64710876e+02  2.97054141e+02]\n",
      "  [ 3.52813489e+02  4.33217165e+02  4.27434830e+02  3.50985278e+02]\n",
      "  [ 4.14893175e+02  5.09210094e+02  4.90557361e+02  4.05871878e+02]\n",
      "  [ 4.72352708e+02  5.77234008e+02  5.09867065e+02  4.54175765e+02]]\n",
      "\n",
      " [[ 1.59039318e+01  2.54710355e+01  2.22749782e+01  1.34233991e+01]\n",
      "  [ 1.83733575e+01  2.93192487e+01  3.19920725e+01  2.20829235e+01]\n",
      "  [ 3.05561820e+01  4.61432289e+01  4.89660748e+01  3.42198964e+01]\n",
      "  [ 4.46653546e+01  6.30541113e+01  7.23211237e+01  4.84598337e+01]\n",
      "  [ 6.47255506e+01  8.88985908e+01  9.59005195e+01  6.79554797e+01]\n",
      "  [ 9.33879542e+01  1.22183088e+02  1.30794596e+02  9.28030900e+01]\n",
      "  [ 1.20296887e+02  1.55184057e+02  1.63250101e+02  1.22712771e+02]\n",
      "  [ 1.58634452e+02  1.96794948e+02  2.04017823e+02  1.58120064e+02]\n",
      "  [ 1.94944110e+02  2.42334757e+02  2.48214557e+02  1.92890483e+02]\n",
      "  [ 2.39984789e+02  2.97143941e+02  2.99400789e+02  2.40707434e+02]\n",
      "  [ 2.90349541e+02  3.56234861e+02  3.62869854e+02  2.90279495e+02]\n",
      "  [ 3.47317002e+02  4.24661767e+02  4.32411998e+02  3.52008321e+02]\n",
      "  [ 4.19402763e+02  5.12650747e+02  5.13663127e+02  4.19346209e+02]\n",
      "  [ 4.95429392e+02  6.06968227e+02  5.94528357e+02  4.89647057e+02]\n",
      "  [ 5.71258519e+02  6.97179729e+02  6.19972730e+02  5.52605787e+02]]\n",
      "\n",
      " [[ 2.93898822e+01  3.62804810e+01  3.07686696e+01  1.98227785e+01]\n",
      "  [ 3.30754101e+01  4.46959281e+01  4.54663997e+01  2.98793529e+01]\n",
      "  [ 3.89839939e+01  5.77286679e+01  6.00455744e+01  4.16568177e+01]\n",
      "  [ 5.91528583e+01  8.27043693e+01  8.61487443e+01  6.19757042e+01]\n",
      "  [ 7.99818891e+01  1.10503375e+02  1.18044035e+02  8.92489015e+01]\n",
      "  [ 1.09206975e+02  1.44052033e+02  1.51096074e+02  1.16208904e+02]\n",
      "  [ 1.46336593e+02  1.86310486e+02  1.93108597e+02  1.54948101e+02]\n",
      "  [ 1.84095761e+02  2.34750839e+02  2.39552453e+02  1.92161805e+02]\n",
      "  [ 2.29909561e+02  2.87379833e+02  2.94291588e+02  2.37132436e+02]\n",
      "  [ 2.81448531e+02  3.47531129e+02  3.53213649e+02  2.87328330e+02]\n",
      "  [ 3.42036174e+02  4.18192298e+02  4.21637786e+02  3.44293021e+02]\n",
      "  [ 4.10199815e+02  5.02265877e+02  5.10082791e+02  4.16834808e+02]\n",
      "  [ 4.88612347e+02  6.03028551e+02  6.07901413e+02  4.96362578e+02]\n",
      "  [ 5.87364319e+02  7.22159637e+02  7.14297909e+02  5.88376699e+02]\n",
      "  [ 6.82227450e+02  8.40155652e+02  7.46994578e+02  6.69787580e+02]]\n",
      "\n",
      " [[ 4.16084258e+01  4.68766611e+01  4.63383448e+01  3.47178269e+01]\n",
      "  [ 4.44041321e+01  5.65648743e+01  5.76369947e+01  3.88923207e+01]\n",
      "  [ 5.59954575e+01  7.30335581e+01  8.03174402e+01  5.67659292e+01]\n",
      "  [ 7.32469125e+01  9.87014633e+01  1.06085305e+02  7.55638190e+01]\n",
      "  [ 1.01699091e+02  1.33097810e+02  1.39988524e+02  1.05143466e+02]\n",
      "  [ 1.32858825e+02  1.67701012e+02  1.80373378e+02  1.40399485e+02]\n",
      "  [ 1.70843858e+02  2.11207502e+02  2.28542977e+02  1.77887899e+02]\n",
      "  [ 2.16818244e+02  2.64260129e+02  2.81086627e+02  2.23616355e+02]\n",
      "  [ 2.71675454e+02  3.29094822e+02  3.42559666e+02  2.76477068e+02]\n",
      "  [ 3.30526546e+02  3.98621272e+02  4.13594424e+02  3.37438300e+02]\n",
      "  [ 3.98947837e+02  4.83414107e+02  4.96696420e+02  4.04630358e+02]\n",
      "  [ 4.80097056e+02  5.83608512e+02  5.97958748e+02  4.83542544e+02]\n",
      "  [ 5.77373077e+02  7.07906914e+02  7.19985310e+02  5.85189991e+02]\n",
      "  [ 6.93511766e+02  8.52527814e+02  8.56312830e+02  6.98384628e+02]\n",
      "  [ 8.14215940e+02  1.01267616e+03  8.99515286e+02  8.06354212e+02]]\n",
      "\n",
      " [[ 5.01416040e+01  5.01416040e+01  5.70341109e+01  4.48733687e+01]\n",
      "  [ 5.36798879e+01  6.05723948e+01  7.01796723e+01  5.31415716e+01]\n",
      "  [ 6.75594151e+01  7.71666926e+01  9.40860863e+01  6.86315355e+01]\n",
      "  [ 8.78515122e+01  1.04770906e+02  1.26534113e+02  9.51353943e+01]\n",
      "  [ 1.17465035e+02  1.39228243e+02  1.59691064e+02  1.24848877e+02]\n",
      "  [ 1.54276183e+02  1.74739004e+02  2.01530541e+02  1.61166897e+02]\n",
      "  [ 1.92542595e+02  2.19334132e+02  2.52656847e+02  2.05214962e+02]\n",
      "  [ 2.41500969e+02  2.74823684e+02  3.16255812e+02  2.58836444e+02]\n",
      "  [ 2.99999964e+02  3.41432092e+02  3.84921188e+02  3.16826462e+02]\n",
      "  [ 3.71004378e+02  4.14493474e+02  4.68935491e+02  3.84469221e+02]\n",
      "  [ 4.48988659e+02  5.03430676e+02  5.67473268e+02  4.63961811e+02]\n",
      "  [ 5.45265567e+02  6.09308158e+02  6.89081717e+02  5.58547880e+02]\n",
      "  [ 6.59728057e+02  7.39501615e+02  8.33094340e+02  6.74078292e+02]\n",
      "  [ 8.00803930e+02  8.94396656e+02  1.01134255e+03  8.12882326e+02]\n",
      "  [ 0.00000000e+00  0.00000000e+00  0.00000000e+00  0.00000000e+00]]]\n"
     ]
    }
   ],
   "source": [
    "print(\"state-action value : \\n\\n\", value_iteration.get_q_values())"
   ]
  },
  {
   "cell_type": "code",
   "execution_count": 41,
   "id": "84578e81",
   "metadata": {},
   "outputs": [
    {
     "name": "stdout",
     "output_type": "stream",
     "text": [
      "optimal policy :\n",
      " \n",
      "----------------------------------------------------------------\n",
      "| ↓ | ↓ | ← | ↓ | ↓ | ↓ | ↓ | → | → | → | ↓ | ↓ | ↓ | ↓ | ↓ | \n",
      "----------------------------------------------------------------\n",
      "| → | ↓ | ↓ | ↓ | ↓ | ↓ | ↓ | → | → | → | ↓ | ↓ | ↓ | ↓ | ↓ | \n",
      "----------------------------------------------------------------\n",
      "| → | → | → | → | ↓ | ↓ | ↓ | ↓ | ↓ | → | ↓ | ↓ | ↓ | ↓ | ↓ | \n",
      "----------------------------------------------------------------\n",
      "| → | → | → | → | ↓ | ↓ | ↓ | ↓ | ↓ | → | ↓ | ↓ | ↓ | ↓ | ↓ | \n",
      "----------------------------------------------------------------\n",
      "| ↓ | → | → | → | ↓ | ↓ | ↓ | ↓ | ↓ | ↓ | → | ↓ | ↓ | ↓ | ↓ | \n",
      "----------------------------------------------------------------\n",
      "| ↓ | → | → | → | → | ↓ | ↓ | ↓ | ↓ | ↓ | ↓ | ↓ | ↓ | ↓ | ↓ | \n",
      "----------------------------------------------------------------\n",
      "| → | → | → | → | → | → | → | → | → | → | → | ↓ | ↓ | ↓ | ↓ | \n",
      "----------------------------------------------------------------\n",
      "| ↓ | ↓ | → | → | → | ↓ | → | ↓ | ↓ | ↓ | → | ↓ | ↓ | ↓ | ↓ | \n",
      "----------------------------------------------------------------\n",
      "| → | → | ↓ | → | → | → | → | → | → | → | → | ↓ | ↓ | ↓ | ↓ | \n",
      "----------------------------------------------------------------\n",
      "| → | → | → | → | → | → | → | → | → | → | → | ↓ | ↓ | ↓ | ↓ | \n",
      "----------------------------------------------------------------\n",
      "| → | → | → | → | ↓ | → | ↓ | ↓ | → | ↓ | → | ↓ | ↓ | ↓ | ↓ | \n",
      "----------------------------------------------------------------\n",
      "| ↓ | → | → | → | → | → | → | → | → | → | → | → | → | ↓ | ↓ | \n",
      "----------------------------------------------------------------\n",
      "| ↓ | → | → | → | → | → | → | → | → | → | → | → | → | ↓ | ↓ | \n",
      "----------------------------------------------------------------\n",
      "| ↓ | → | → | → | → | → | → | → | → | → | → | → | → | → | ↓ | \n",
      "----------------------------------------------------------------\n",
      "| → | → | → | → | → | → | → | → | → | → | → | → | → | → | * | \n",
      "----------------------------------------------------------------\n"
     ]
    }
   ],
   "source": [
    "print(\"optimal policy :\\n\", show_actions_on_map(value_iteration, MAP_SIZE))"
   ]
  },
  {
   "cell_type": "code",
   "execution_count": null,
   "id": "959eaf1f",
   "metadata": {},
   "outputs": [],
   "source": []
  },
  {
   "cell_type": "code",
   "execution_count": null,
   "id": "cc670681",
   "metadata": {},
   "outputs": [],
   "source": []
  }
 ],
 "metadata": {
  "kernelspec": {
   "display_name": "Python 3",
   "language": "python",
   "name": "python3"
  },
  "language_info": {
   "codemirror_mode": {
    "name": "ipython",
    "version": 3
   },
   "file_extension": ".py",
   "mimetype": "text/x-python",
   "name": "python",
   "nbconvert_exporter": "python",
   "pygments_lexer": "ipython3",
   "version": "3.8.8"
  }
 },
 "nbformat": 4,
 "nbformat_minor": 5
}
